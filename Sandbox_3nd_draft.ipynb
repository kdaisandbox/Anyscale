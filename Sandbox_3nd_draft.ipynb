{
 "cells": [
  {
   "cell_type": "markdown",
   "id": "bff9b407",
   "metadata": {},
   "source": [
    "# Disk Capacity Prediction - Anyscale Use Case"
   ]
  },
  {
   "cell_type": "markdown",
   "id": "6c95ef76",
   "metadata": {},
   "source": [
    "*Since some details of the project are not necessary to grasp the concept of Ray/Anyscale workflow, those non-essential parts were hidden behind to overcome any confusions. If you want to check those parts, you can simply go through our repository."
   ]
  },
  {
   "cell_type": "markdown",
   "id": "d5bca015",
   "metadata": {},
   "source": [
    "## What to expect from this notebook?\n",
    "\n",
    "• The aim of this notebook is to let the user experience Ray, an emerging technology on distributed computing with Python. Also, the user will experience Anyscale which is the name of the cloud platform that facilitates scaling with Ray. This experience will be demonstrated based on a scalable time series bussiness problem from a project which is held by KoçDigital."
   ]
  },
  {
   "cell_type": "markdown",
   "id": "5740adde",
   "metadata": {},
   "source": [
    "## Problem Definition"
   ]
  },
  {
   "cell_type": "markdown",
   "id": "009562da",
   "metadata": {},
   "source": [
    "•Fully utilized discs lead to severe availability issues which undermines company’s reputation and trigger SLA penalties\n",
    "\n",
    "•The company should forecast disc utilization for each server they host for the upcoming weeks and observe the risk of exceeding a critical utilization threshold which jeopardize the availability (e.g., 80%, 90%)\n",
    "\n",
    "•Forecasts help the company to take precautious actions in order to prevent availability issues due to full utilization (+99%, 100%)\n",
    "\n",
    "Daily inference runs produce forecast for every disc in the pool and help answering the following question:\n",
    "\n",
    "<b>*How much time do we have until a specific disc’s utilization reaches a critical threshold (e.g. 80%, 85%, 90%)?*</b>\n",
    "\n",
    "\n",
    "\n",
    "<img src='disk_problem_image.png' width=\"550\" height=\"550\" align=\"left\">\n",
    "\n"
   ]
  },
  {
   "cell_type": "markdown",
   "id": "9f2a1ff7",
   "metadata": {},
   "source": [
    "## Importing Libraries"
   ]
  },
  {
   "cell_type": "code",
   "execution_count": 1,
   "id": "48d7f01b",
   "metadata": {},
   "outputs": [],
   "source": [
    "import warnings\n",
    "warnings.filterwarnings(\"ignore\")"
   ]
  },
  {
   "cell_type": "code",
   "execution_count": 2,
   "id": "26006a2e",
   "metadata": {},
   "outputs": [
    {
     "name": "stderr",
     "output_type": "stream",
     "text": [
      "[2022-04-28 17:45:49,984] WARNING | darts.models | Support for Facebook Prophet is not available. To enable it, install \"darts\", \"u8darts[prophet]\" or \"u8darts[all]\" (with pip);or \"u8darts-all\" (with conda).\n"
     ]
    }
   ],
   "source": [
    "import pandas as pd\n",
    "import numpy as np\n",
    "import yaml\n",
    "from pathlib import Path\n",
    "import os\n",
    "import math\n",
    "import time\n",
    "\n",
    "from sandbox_src.utils.config import load_config\n",
    "from sandbox_src.preprocessing.preprocessing import DataPreprocess\n",
    "from sandbox_src.feature_engineering.feature_engineering import ClusterFeatureEngine\n",
    "from sandbox_src.model_development.model_development import ModelDevelopment\n",
    "\n",
    "from darts.models import (\n",
    "    AutoARIMA,\n",
    "    LightGBMModel\n",
    ")\n",
    "import random\n",
    "import matplotlib.pyplot as plt\n",
    "from darts import TimeSeries\n",
    "from darts.metrics.metrics import mae, mse\n",
    "\n",
    "from sklearn.metrics import mean_absolute_error\n",
    "from sklearn.metrics import mean_absolute_percentage_error"
   ]
  },
  {
   "cell_type": "markdown",
   "id": "2555d435",
   "metadata": {},
   "source": [
    "## Importing Data"
   ]
  },
  {
   "cell_type": "markdown",
   "id": "c249dd5b",
   "metadata": {},
   "source": [
    "<b>Dataset Explanation:</b>\n",
    "The dataset includes disk utilization data for 30 different disks each of which has 90 days of data.\n",
    "\n",
    "\n",
    "<img src='disk_utilization.png' width=\"200\" height=\"200\" align=\"left\">"
   ]
  },
  {
   "cell_type": "code",
   "execution_count": 7,
   "id": "0de3f4f1",
   "metadata": {},
   "outputs": [],
   "source": [
    "# Import data\n",
    "df_disks = pd.read_csv(\"sandbox_synthetic_train_data_v2.csv\", parse_dates=[\"Date\"])\n",
    "# Set \"Date\" column as index\n",
    "df_disks.set_index([\"Date\"], inplace=True)"
   ]
  },
  {
   "cell_type": "markdown",
   "id": "7c847325",
   "metadata": {},
   "source": [
    "### Let's have a look at our dataset"
   ]
  },
  {
   "cell_type": "code",
   "execution_count": 8,
   "id": "888289d6",
   "metadata": {},
   "outputs": [
    {
     "data": {
      "text/html": [
       "<div>\n",
       "<style scoped>\n",
       "    .dataframe tbody tr th:only-of-type {\n",
       "        vertical-align: middle;\n",
       "    }\n",
       "\n",
       "    .dataframe tbody tr th {\n",
       "        vertical-align: top;\n",
       "    }\n",
       "\n",
       "    .dataframe thead th {\n",
       "        text-align: right;\n",
       "    }\n",
       "</style>\n",
       "<table border=\"1\" class=\"dataframe\">\n",
       "  <thead>\n",
       "    <tr style=\"text-align: right;\">\n",
       "      <th></th>\n",
       "      <th>Disk_1</th>\n",
       "      <th>Disk_2</th>\n",
       "      <th>Disk_3</th>\n",
       "      <th>Disk_4</th>\n",
       "      <th>Disk_5</th>\n",
       "      <th>Disk_6</th>\n",
       "      <th>Disk_7</th>\n",
       "      <th>Disk_8</th>\n",
       "      <th>Disk_9</th>\n",
       "      <th>Disk_10</th>\n",
       "      <th>...</th>\n",
       "      <th>Disk_1199</th>\n",
       "      <th>Disk_1200</th>\n",
       "      <th>Disk_1201</th>\n",
       "      <th>Disk_1202</th>\n",
       "      <th>Disk_1203</th>\n",
       "      <th>Disk_1204</th>\n",
       "      <th>Disk_1205</th>\n",
       "      <th>Disk_1206</th>\n",
       "      <th>Disk_1207</th>\n",
       "      <th>Disk_1208</th>\n",
       "    </tr>\n",
       "    <tr>\n",
       "      <th>Date</th>\n",
       "      <th></th>\n",
       "      <th></th>\n",
       "      <th></th>\n",
       "      <th></th>\n",
       "      <th></th>\n",
       "      <th></th>\n",
       "      <th></th>\n",
       "      <th></th>\n",
       "      <th></th>\n",
       "      <th></th>\n",
       "      <th></th>\n",
       "      <th></th>\n",
       "      <th></th>\n",
       "      <th></th>\n",
       "      <th></th>\n",
       "      <th></th>\n",
       "      <th></th>\n",
       "      <th></th>\n",
       "      <th></th>\n",
       "      <th></th>\n",
       "      <th></th>\n",
       "    </tr>\n",
       "  </thead>\n",
       "  <tbody>\n",
       "    <tr>\n",
       "      <th>2022-01-01</th>\n",
       "      <td>26.000000</td>\n",
       "      <td>32.000000</td>\n",
       "      <td>23.000000</td>\n",
       "      <td>11.000000</td>\n",
       "      <td>18.000000</td>\n",
       "      <td>27.000000</td>\n",
       "      <td>13.000000</td>\n",
       "      <td>23.000000</td>\n",
       "      <td>30.000000</td>\n",
       "      <td>29.000000</td>\n",
       "      <td>...</td>\n",
       "      <td>32.000000</td>\n",
       "      <td>42.000000</td>\n",
       "      <td>40.000000</td>\n",
       "      <td>31.000000</td>\n",
       "      <td>20.000000</td>\n",
       "      <td>40.000000</td>\n",
       "      <td>40.000000</td>\n",
       "      <td>30.000000</td>\n",
       "      <td>39.000000</td>\n",
       "      <td>45.000000</td>\n",
       "    </tr>\n",
       "    <tr>\n",
       "      <th>2022-01-02</th>\n",
       "      <td>25.164229</td>\n",
       "      <td>32.934208</td>\n",
       "      <td>23.767508</td>\n",
       "      <td>11.413182</td>\n",
       "      <td>18.114692</td>\n",
       "      <td>27.635833</td>\n",
       "      <td>12.620166</td>\n",
       "      <td>22.151559</td>\n",
       "      <td>30.924577</td>\n",
       "      <td>28.686095</td>\n",
       "      <td>...</td>\n",
       "      <td>31.863012</td>\n",
       "      <td>42.299517</td>\n",
       "      <td>40.978051</td>\n",
       "      <td>31.883150</td>\n",
       "      <td>20.916240</td>\n",
       "      <td>39.011968</td>\n",
       "      <td>39.411968</td>\n",
       "      <td>31.050904</td>\n",
       "      <td>37.260928</td>\n",
       "      <td>44.621817</td>\n",
       "    </tr>\n",
       "    <tr>\n",
       "      <th>2022-01-03</th>\n",
       "      <td>24.301035</td>\n",
       "      <td>33.159261</td>\n",
       "      <td>24.542706</td>\n",
       "      <td>10.544558</td>\n",
       "      <td>18.989186</td>\n",
       "      <td>26.954619</td>\n",
       "      <td>12.831877</td>\n",
       "      <td>22.314634</td>\n",
       "      <td>30.473023</td>\n",
       "      <td>29.398625</td>\n",
       "      <td>...</td>\n",
       "      <td>32.186121</td>\n",
       "      <td>42.658744</td>\n",
       "      <td>40.110016</td>\n",
       "      <td>31.024494</td>\n",
       "      <td>20.630688</td>\n",
       "      <td>39.695189</td>\n",
       "      <td>40.495189</td>\n",
       "      <td>31.293997</td>\n",
       "      <td>38.608082</td>\n",
       "      <td>45.873891</td>\n",
       "    </tr>\n",
       "    <tr>\n",
       "      <th>2022-01-04</th>\n",
       "      <td>24.786593</td>\n",
       "      <td>33.391173</td>\n",
       "      <td>25.155790</td>\n",
       "      <td>11.357127</td>\n",
       "      <td>19.584818</td>\n",
       "      <td>26.241311</td>\n",
       "      <td>12.633970</td>\n",
       "      <td>23.286229</td>\n",
       "      <td>30.598197</td>\n",
       "      <td>28.652404</td>\n",
       "      <td>...</td>\n",
       "      <td>33.176839</td>\n",
       "      <td>42.188093</td>\n",
       "      <td>40.967830</td>\n",
       "      <td>30.798523</td>\n",
       "      <td>19.915371</td>\n",
       "      <td>40.893997</td>\n",
       "      <td>42.093997</td>\n",
       "      <td>30.688369</td>\n",
       "      <td>38.454251</td>\n",
       "      <td>44.179465</td>\n",
       "    </tr>\n",
       "    <tr>\n",
       "      <th>2022-01-05</th>\n",
       "      <td>25.353681</td>\n",
       "      <td>33.165377</td>\n",
       "      <td>26.023170</td>\n",
       "      <td>11.415367</td>\n",
       "      <td>19.799340</td>\n",
       "      <td>27.224058</td>\n",
       "      <td>12.925220</td>\n",
       "      <td>22.354024</td>\n",
       "      <td>30.833053</td>\n",
       "      <td>29.478356</td>\n",
       "      <td>...</td>\n",
       "      <td>33.213634</td>\n",
       "      <td>42.013921</td>\n",
       "      <td>40.610700</td>\n",
       "      <td>30.842225</td>\n",
       "      <td>20.573071</td>\n",
       "      <td>40.580611</td>\n",
       "      <td>42.180611</td>\n",
       "      <td>29.998847</td>\n",
       "      <td>37.733062</td>\n",
       "      <td>46.180240</td>\n",
       "    </tr>\n",
       "  </tbody>\n",
       "</table>\n",
       "<p>5 rows × 1208 columns</p>\n",
       "</div>"
      ],
      "text/plain": [
       "               Disk_1     Disk_2     Disk_3     Disk_4     Disk_5     Disk_6  \\\n",
       "Date                                                                           \n",
       "2022-01-01  26.000000  32.000000  23.000000  11.000000  18.000000  27.000000   \n",
       "2022-01-02  25.164229  32.934208  23.767508  11.413182  18.114692  27.635833   \n",
       "2022-01-03  24.301035  33.159261  24.542706  10.544558  18.989186  26.954619   \n",
       "2022-01-04  24.786593  33.391173  25.155790  11.357127  19.584818  26.241311   \n",
       "2022-01-05  25.353681  33.165377  26.023170  11.415367  19.799340  27.224058   \n",
       "\n",
       "               Disk_7     Disk_8     Disk_9    Disk_10  ...  Disk_1199  \\\n",
       "Date                                                    ...              \n",
       "2022-01-01  13.000000  23.000000  30.000000  29.000000  ...  32.000000   \n",
       "2022-01-02  12.620166  22.151559  30.924577  28.686095  ...  31.863012   \n",
       "2022-01-03  12.831877  22.314634  30.473023  29.398625  ...  32.186121   \n",
       "2022-01-04  12.633970  23.286229  30.598197  28.652404  ...  33.176839   \n",
       "2022-01-05  12.925220  22.354024  30.833053  29.478356  ...  33.213634   \n",
       "\n",
       "            Disk_1200  Disk_1201  Disk_1202  Disk_1203  Disk_1204  Disk_1205  \\\n",
       "Date                                                                           \n",
       "2022-01-01  42.000000  40.000000  31.000000  20.000000  40.000000  40.000000   \n",
       "2022-01-02  42.299517  40.978051  31.883150  20.916240  39.011968  39.411968   \n",
       "2022-01-03  42.658744  40.110016  31.024494  20.630688  39.695189  40.495189   \n",
       "2022-01-04  42.188093  40.967830  30.798523  19.915371  40.893997  42.093997   \n",
       "2022-01-05  42.013921  40.610700  30.842225  20.573071  40.580611  42.180611   \n",
       "\n",
       "            Disk_1206  Disk_1207  Disk_1208  \n",
       "Date                                         \n",
       "2022-01-01  30.000000  39.000000  45.000000  \n",
       "2022-01-02  31.050904  37.260928  44.621817  \n",
       "2022-01-03  31.293997  38.608082  45.873891  \n",
       "2022-01-04  30.688369  38.454251  44.179465  \n",
       "2022-01-05  29.998847  37.733062  46.180240  \n",
       "\n",
       "[5 rows x 1208 columns]"
      ]
     },
     "execution_count": 8,
     "metadata": {},
     "output_type": "execute_result"
    }
   ],
   "source": [
    "df_disks.head()"
   ]
  },
  {
   "cell_type": "code",
   "execution_count": 8,
   "id": "917cf783",
   "metadata": {},
   "outputs": [
    {
     "name": "stdout",
     "output_type": "stream",
     "text": [
      "<class 'pandas.core.frame.DataFrame'>\n",
      "DatetimeIndex: 90 entries, 2022-01-01 to 2022-03-31\n",
      "Data columns (total 30 columns):\n",
      " #   Column  Non-Null Count  Dtype  \n",
      "---  ------  --------------  -----  \n",
      " 0   0       90 non-null     float64\n",
      " 1   1       90 non-null     float64\n",
      " 2   2       90 non-null     float64\n",
      " 3   3       90 non-null     float64\n",
      " 4   4       90 non-null     float64\n",
      " 5   5       90 non-null     float64\n",
      " 6   6       90 non-null     float64\n",
      " 7   7       90 non-null     float64\n",
      " 8   8       90 non-null     float64\n",
      " 9   9       90 non-null     float64\n",
      " 10  10      90 non-null     float64\n",
      " 11  11      90 non-null     float64\n",
      " 12  12      90 non-null     float64\n",
      " 13  13      90 non-null     float64\n",
      " 14  14      90 non-null     float64\n",
      " 15  15      90 non-null     float64\n",
      " 16  16      90 non-null     float64\n",
      " 17  17      90 non-null     float64\n",
      " 18  18      90 non-null     float64\n",
      " 19  19      90 non-null     float64\n",
      " 20  20      90 non-null     float64\n",
      " 21  21      90 non-null     float64\n",
      " 22  22      90 non-null     float64\n",
      " 23  23      90 non-null     float64\n",
      " 24  24      90 non-null     float64\n",
      " 25  25      90 non-null     float64\n",
      " 26  26      90 non-null     float64\n",
      " 27  27      90 non-null     float64\n",
      " 28  28      90 non-null     float64\n",
      " 29  29      90 non-null     float64\n",
      "dtypes: float64(30)\n",
      "memory usage: 21.8 KB\n"
     ]
    }
   ],
   "source": [
    "df_disks.info()"
   ]
  },
  {
   "cell_type": "code",
   "execution_count": 9,
   "id": "71127979",
   "metadata": {},
   "outputs": [
    {
     "data": {
      "text/html": [
       "<div>\n",
       "<style scoped>\n",
       "    .dataframe tbody tr th:only-of-type {\n",
       "        vertical-align: middle;\n",
       "    }\n",
       "\n",
       "    .dataframe tbody tr th {\n",
       "        vertical-align: top;\n",
       "    }\n",
       "\n",
       "    .dataframe thead th {\n",
       "        text-align: right;\n",
       "    }\n",
       "</style>\n",
       "<table border=\"1\" class=\"dataframe\">\n",
       "  <thead>\n",
       "    <tr style=\"text-align: right;\">\n",
       "      <th></th>\n",
       "      <th>0</th>\n",
       "      <th>1</th>\n",
       "      <th>2</th>\n",
       "      <th>3</th>\n",
       "      <th>4</th>\n",
       "      <th>5</th>\n",
       "      <th>6</th>\n",
       "      <th>7</th>\n",
       "      <th>8</th>\n",
       "      <th>9</th>\n",
       "      <th>...</th>\n",
       "      <th>20</th>\n",
       "      <th>21</th>\n",
       "      <th>22</th>\n",
       "      <th>23</th>\n",
       "      <th>24</th>\n",
       "      <th>25</th>\n",
       "      <th>26</th>\n",
       "      <th>27</th>\n",
       "      <th>28</th>\n",
       "      <th>29</th>\n",
       "    </tr>\n",
       "  </thead>\n",
       "  <tbody>\n",
       "    <tr>\n",
       "      <th>count</th>\n",
       "      <td>90.000000</td>\n",
       "      <td>90.000000</td>\n",
       "      <td>90.000000</td>\n",
       "      <td>90.000000</td>\n",
       "      <td>90.000000</td>\n",
       "      <td>90.000000</td>\n",
       "      <td>90.000000</td>\n",
       "      <td>90.000000</td>\n",
       "      <td>90.000000</td>\n",
       "      <td>90.000000</td>\n",
       "      <td>...</td>\n",
       "      <td>90.000000</td>\n",
       "      <td>90.000000</td>\n",
       "      <td>90.000000</td>\n",
       "      <td>90.000000</td>\n",
       "      <td>90.000000</td>\n",
       "      <td>90.000000</td>\n",
       "      <td>90.000000</td>\n",
       "      <td>90.000000</td>\n",
       "      <td>90.000000</td>\n",
       "      <td>90.000000</td>\n",
       "    </tr>\n",
       "    <tr>\n",
       "      <th>mean</th>\n",
       "      <td>32.258671</td>\n",
       "      <td>40.506934</td>\n",
       "      <td>31.051981</td>\n",
       "      <td>21.403180</td>\n",
       "      <td>29.881730</td>\n",
       "      <td>35.866176</td>\n",
       "      <td>16.824788</td>\n",
       "      <td>26.524704</td>\n",
       "      <td>36.179535</td>\n",
       "      <td>37.795248</td>\n",
       "      <td>...</td>\n",
       "      <td>44.155076</td>\n",
       "      <td>46.661650</td>\n",
       "      <td>45.654695</td>\n",
       "      <td>38.357968</td>\n",
       "      <td>29.378978</td>\n",
       "      <td>39.997674</td>\n",
       "      <td>57.797674</td>\n",
       "      <td>38.921360</td>\n",
       "      <td>42.453548</td>\n",
       "      <td>47.218367</td>\n",
       "    </tr>\n",
       "    <tr>\n",
       "      <th>std</th>\n",
       "      <td>3.739942</td>\n",
       "      <td>4.319320</td>\n",
       "      <td>5.602621</td>\n",
       "      <td>4.995122</td>\n",
       "      <td>6.233065</td>\n",
       "      <td>5.659363</td>\n",
       "      <td>2.640752</td>\n",
       "      <td>5.012057</td>\n",
       "      <td>3.112326</td>\n",
       "      <td>5.251806</td>\n",
       "      <td>...</td>\n",
       "      <td>6.519701</td>\n",
       "      <td>5.190393</td>\n",
       "      <td>3.648833</td>\n",
       "      <td>3.323513</td>\n",
       "      <td>6.054638</td>\n",
       "      <td>0.707378</td>\n",
       "      <td>10.492001</td>\n",
       "      <td>5.275495</td>\n",
       "      <td>2.695872</td>\n",
       "      <td>1.481271</td>\n",
       "    </tr>\n",
       "    <tr>\n",
       "      <th>min</th>\n",
       "      <td>24.301035</td>\n",
       "      <td>32.000000</td>\n",
       "      <td>23.000000</td>\n",
       "      <td>10.544558</td>\n",
       "      <td>18.000000</td>\n",
       "      <td>26.241311</td>\n",
       "      <td>11.937338</td>\n",
       "      <td>21.181768</td>\n",
       "      <td>30.000000</td>\n",
       "      <td>28.652404</td>\n",
       "      <td>...</td>\n",
       "      <td>31.863012</td>\n",
       "      <td>41.655944</td>\n",
       "      <td>40.000000</td>\n",
       "      <td>30.798523</td>\n",
       "      <td>19.915371</td>\n",
       "      <td>39.000240</td>\n",
       "      <td>39.411968</td>\n",
       "      <td>29.998847</td>\n",
       "      <td>37.260928</td>\n",
       "      <td>44.179465</td>\n",
       "    </tr>\n",
       "    <tr>\n",
       "      <th>25%</th>\n",
       "      <td>30.545156</td>\n",
       "      <td>36.807033</td>\n",
       "      <td>26.024315</td>\n",
       "      <td>19.694486</td>\n",
       "      <td>24.283722</td>\n",
       "      <td>31.604439</td>\n",
       "      <td>15.060343</td>\n",
       "      <td>22.362711</td>\n",
       "      <td>33.642585</td>\n",
       "      <td>31.709905</td>\n",
       "      <td>...</td>\n",
       "      <td>38.588898</td>\n",
       "      <td>42.774776</td>\n",
       "      <td>42.929368</td>\n",
       "      <td>36.416742</td>\n",
       "      <td>24.968578</td>\n",
       "      <td>39.293084</td>\n",
       "      <td>49.057554</td>\n",
       "      <td>34.395983</td>\n",
       "      <td>40.226638</td>\n",
       "      <td>46.162315</td>\n",
       "    </tr>\n",
       "    <tr>\n",
       "      <th>50%</th>\n",
       "      <td>32.469513</td>\n",
       "      <td>41.245721</td>\n",
       "      <td>31.193033</td>\n",
       "      <td>22.360827</td>\n",
       "      <td>30.329500</td>\n",
       "      <td>34.698746</td>\n",
       "      <td>16.983486</td>\n",
       "      <td>23.893563</td>\n",
       "      <td>36.612654</td>\n",
       "      <td>40.031246</td>\n",
       "      <td>...</td>\n",
       "      <td>45.709668</td>\n",
       "      <td>44.167101</td>\n",
       "      <td>44.769979</td>\n",
       "      <td>39.155532</td>\n",
       "      <td>26.587768</td>\n",
       "      <td>39.977818</td>\n",
       "      <td>57.880638</td>\n",
       "      <td>38.731229</td>\n",
       "      <td>42.492046</td>\n",
       "      <td>47.199075</td>\n",
       "    </tr>\n",
       "    <tr>\n",
       "      <th>75%</th>\n",
       "      <td>35.191337</td>\n",
       "      <td>43.570651</td>\n",
       "      <td>34.133233</td>\n",
       "      <td>25.219773</td>\n",
       "      <td>36.013118</td>\n",
       "      <td>40.536954</td>\n",
       "      <td>18.168698</td>\n",
       "      <td>31.116028</td>\n",
       "      <td>38.842315</td>\n",
       "      <td>41.586650</td>\n",
       "      <td>...</td>\n",
       "      <td>48.055290</td>\n",
       "      <td>50.116395</td>\n",
       "      <td>48.538556</td>\n",
       "      <td>40.409262</td>\n",
       "      <td>36.058432</td>\n",
       "      <td>40.674953</td>\n",
       "      <td>66.677264</td>\n",
       "      <td>43.547954</td>\n",
       "      <td>44.739258</td>\n",
       "      <td>48.361303</td>\n",
       "    </tr>\n",
       "    <tr>\n",
       "      <th>max</th>\n",
       "      <td>39.268006</td>\n",
       "      <td>48.895881</td>\n",
       "      <td>42.928591</td>\n",
       "      <td>28.408128</td>\n",
       "      <td>39.356191</td>\n",
       "      <td>46.027079</td>\n",
       "      <td>22.087581</td>\n",
       "      <td>36.772415</td>\n",
       "      <td>42.073464</td>\n",
       "      <td>45.170174</td>\n",
       "      <td>...</td>\n",
       "      <td>55.373061</td>\n",
       "      <td>60.906533</td>\n",
       "      <td>54.527456</td>\n",
       "      <td>45.311827</td>\n",
       "      <td>39.923761</td>\n",
       "      <td>40.999752</td>\n",
       "      <td>76.073415</td>\n",
       "      <td>48.599748</td>\n",
       "      <td>47.737974</td>\n",
       "      <td>50.345524</td>\n",
       "    </tr>\n",
       "  </tbody>\n",
       "</table>\n",
       "<p>8 rows × 30 columns</p>\n",
       "</div>"
      ],
      "text/plain": [
       "               0          1          2          3          4          5  \\\n",
       "count  90.000000  90.000000  90.000000  90.000000  90.000000  90.000000   \n",
       "mean   32.258671  40.506934  31.051981  21.403180  29.881730  35.866176   \n",
       "std     3.739942   4.319320   5.602621   4.995122   6.233065   5.659363   \n",
       "min    24.301035  32.000000  23.000000  10.544558  18.000000  26.241311   \n",
       "25%    30.545156  36.807033  26.024315  19.694486  24.283722  31.604439   \n",
       "50%    32.469513  41.245721  31.193033  22.360827  30.329500  34.698746   \n",
       "75%    35.191337  43.570651  34.133233  25.219773  36.013118  40.536954   \n",
       "max    39.268006  48.895881  42.928591  28.408128  39.356191  46.027079   \n",
       "\n",
       "               6          7          8          9  ...         20         21  \\\n",
       "count  90.000000  90.000000  90.000000  90.000000  ...  90.000000  90.000000   \n",
       "mean   16.824788  26.524704  36.179535  37.795248  ...  44.155076  46.661650   \n",
       "std     2.640752   5.012057   3.112326   5.251806  ...   6.519701   5.190393   \n",
       "min    11.937338  21.181768  30.000000  28.652404  ...  31.863012  41.655944   \n",
       "25%    15.060343  22.362711  33.642585  31.709905  ...  38.588898  42.774776   \n",
       "50%    16.983486  23.893563  36.612654  40.031246  ...  45.709668  44.167101   \n",
       "75%    18.168698  31.116028  38.842315  41.586650  ...  48.055290  50.116395   \n",
       "max    22.087581  36.772415  42.073464  45.170174  ...  55.373061  60.906533   \n",
       "\n",
       "              22         23         24         25         26         27  \\\n",
       "count  90.000000  90.000000  90.000000  90.000000  90.000000  90.000000   \n",
       "mean   45.654695  38.357968  29.378978  39.997674  57.797674  38.921360   \n",
       "std     3.648833   3.323513   6.054638   0.707378  10.492001   5.275495   \n",
       "min    40.000000  30.798523  19.915371  39.000240  39.411968  29.998847   \n",
       "25%    42.929368  36.416742  24.968578  39.293084  49.057554  34.395983   \n",
       "50%    44.769979  39.155532  26.587768  39.977818  57.880638  38.731229   \n",
       "75%    48.538556  40.409262  36.058432  40.674953  66.677264  43.547954   \n",
       "max    54.527456  45.311827  39.923761  40.999752  76.073415  48.599748   \n",
       "\n",
       "              28         29  \n",
       "count  90.000000  90.000000  \n",
       "mean   42.453548  47.218367  \n",
       "std     2.695872   1.481271  \n",
       "min    37.260928  44.179465  \n",
       "25%    40.226638  46.162315  \n",
       "50%    42.492046  47.199075  \n",
       "75%    44.739258  48.361303  \n",
       "max    47.737974  50.345524  \n",
       "\n",
       "[8 rows x 30 columns]"
      ]
     },
     "execution_count": 9,
     "metadata": {},
     "output_type": "execute_result"
    }
   ],
   "source": [
    "df_disks.describe()"
   ]
  },
  {
   "cell_type": "markdown",
   "id": "c3af187f",
   "metadata": {},
   "source": [
    "## Initialize Class Instances"
   ]
  },
  {
   "cell_type": "code",
   "execution_count": 9,
   "id": "54a2c9a9",
   "metadata": {},
   "outputs": [],
   "source": [
    "# Load config\n",
    "config = load_config('config.yml')"
   ]
  },
  {
   "cell_type": "code",
   "execution_count": 10,
   "id": "6dd2ffce",
   "metadata": {},
   "outputs": [],
   "source": [
    "# Create necessary class instances\n",
    "preprocessor = DataPreprocess()\n",
    "feature_engine = ClusterFeatureEngine(config=config)\n",
    "model_development = ModelDevelopment(config=config)"
   ]
  },
  {
   "cell_type": "markdown",
   "id": "d3ae41cd",
   "metadata": {},
   "source": [
    "## Model Mapping"
   ]
  },
  {
   "cell_type": "markdown",
   "id": "88f48775",
   "metadata": {},
   "source": [
    "We would not want complexity of having a seperate model for each disk, so we used a limited model pool. Hence, this model mapping process is implemented to match disks with their best suited time series model for daily forecasts. To do that, each disk is examined with each time series model from the pool based on their performance metrics. But, this is an expensive process both in terms of computation and time complexity."
   ]
  },
  {
   "cell_type": "markdown",
   "id": "64056b7a",
   "metadata": {},
   "source": [
    "### Let's first see the synchronous Python implementation with only 2 disks"
   ]
  },
  {
   "cell_type": "code",
   "execution_count": 12,
   "id": "1c382c86",
   "metadata": {
    "scrolled": true
   },
   "outputs": [
    {
     "data": {
      "text/html": [
       "<div>\n",
       "<style scoped>\n",
       "    .dataframe tbody tr th:only-of-type {\n",
       "        vertical-align: middle;\n",
       "    }\n",
       "\n",
       "    .dataframe tbody tr th {\n",
       "        vertical-align: top;\n",
       "    }\n",
       "\n",
       "    .dataframe thead th {\n",
       "        text-align: right;\n",
       "    }\n",
       "</style>\n",
       "<table border=\"1\" class=\"dataframe\">\n",
       "  <thead>\n",
       "    <tr style=\"text-align: right;\">\n",
       "      <th></th>\n",
       "      <th>0</th>\n",
       "      <th>1</th>\n",
       "    </tr>\n",
       "    <tr>\n",
       "      <th>Date</th>\n",
       "      <th></th>\n",
       "      <th></th>\n",
       "    </tr>\n",
       "  </thead>\n",
       "  <tbody>\n",
       "    <tr>\n",
       "      <th>2022-01-01</th>\n",
       "      <td>26.000000</td>\n",
       "      <td>32.000000</td>\n",
       "    </tr>\n",
       "    <tr>\n",
       "      <th>2022-01-02</th>\n",
       "      <td>25.164229</td>\n",
       "      <td>32.934208</td>\n",
       "    </tr>\n",
       "    <tr>\n",
       "      <th>2022-01-03</th>\n",
       "      <td>24.301035</td>\n",
       "      <td>33.159261</td>\n",
       "    </tr>\n",
       "    <tr>\n",
       "      <th>2022-01-04</th>\n",
       "      <td>24.786593</td>\n",
       "      <td>33.391173</td>\n",
       "    </tr>\n",
       "    <tr>\n",
       "      <th>2022-01-05</th>\n",
       "      <td>25.353681</td>\n",
       "      <td>33.165377</td>\n",
       "    </tr>\n",
       "    <tr>\n",
       "      <th>...</th>\n",
       "      <td>...</td>\n",
       "      <td>...</td>\n",
       "    </tr>\n",
       "    <tr>\n",
       "      <th>2022-03-27</th>\n",
       "      <td>37.821327</td>\n",
       "      <td>47.794968</td>\n",
       "    </tr>\n",
       "    <tr>\n",
       "      <th>2022-03-28</th>\n",
       "      <td>38.337808</td>\n",
       "      <td>48.117277</td>\n",
       "    </tr>\n",
       "    <tr>\n",
       "      <th>2022-03-29</th>\n",
       "      <td>37.448022</td>\n",
       "      <td>48.800963</td>\n",
       "    </tr>\n",
       "    <tr>\n",
       "      <th>2022-03-30</th>\n",
       "      <td>38.402735</td>\n",
       "      <td>48.895881</td>\n",
       "    </tr>\n",
       "    <tr>\n",
       "      <th>2022-03-31</th>\n",
       "      <td>39.268006</td>\n",
       "      <td>48.605123</td>\n",
       "    </tr>\n",
       "  </tbody>\n",
       "</table>\n",
       "<p>90 rows × 2 columns</p>\n",
       "</div>"
      ],
      "text/plain": [
       "                    0          1\n",
       "Date                            \n",
       "2022-01-01  26.000000  32.000000\n",
       "2022-01-02  25.164229  32.934208\n",
       "2022-01-03  24.301035  33.159261\n",
       "2022-01-04  24.786593  33.391173\n",
       "2022-01-05  25.353681  33.165377\n",
       "...               ...        ...\n",
       "2022-03-27  37.821327  47.794968\n",
       "2022-03-28  38.337808  48.117277\n",
       "2022-03-29  37.448022  48.800963\n",
       "2022-03-30  38.402735  48.895881\n",
       "2022-03-31  39.268006  48.605123\n",
       "\n",
       "[90 rows x 2 columns]"
      ]
     },
     "execution_count": 12,
     "metadata": {},
     "output_type": "execute_result"
    }
   ],
   "source": [
    "df_disks_w_2disks = df_disks.iloc[:, :2]\n",
    "df_disks_w_2disks"
   ]
  },
  {
   "cell_type": "code",
   "execution_count": 15,
   "id": "5a9e9439",
   "metadata": {
    "scrolled": true
   },
   "outputs": [
    {
     "data": {
      "text/plain": [
       "'The total elapsed time for model mapping process with 2 disks is: 169.10 seconds'"
      ]
     },
     "execution_count": 15,
     "metadata": {},
     "output_type": "execute_result"
    }
   ],
   "source": [
    "# Compute execution time for the model mapping process\n",
    "start_time = time.time()\n",
    "errors_df = feature_engine.cluster_disks(df_disks_w_2disks)\n",
    "elapsed_time = time.time() - start_time\n",
    "\n",
    "print(f'The total elapsed time for model mapping process with 2 disks is: {elapsed_time:.2f} seconds')"
   ]
  },
  {
   "cell_type": "code",
   "execution_count": 14,
   "id": "e8ed6611",
   "metadata": {
    "scrolled": true
   },
   "outputs": [
    {
     "data": {
      "text/html": [
       "<div>\n",
       "<style scoped>\n",
       "    .dataframe tbody tr th:only-of-type {\n",
       "        vertical-align: middle;\n",
       "    }\n",
       "\n",
       "    .dataframe tbody tr th {\n",
       "        vertical-align: top;\n",
       "    }\n",
       "\n",
       "    .dataframe thead th {\n",
       "        text-align: right;\n",
       "    }\n",
       "</style>\n",
       "<table border=\"1\" class=\"dataframe\">\n",
       "  <thead>\n",
       "    <tr style=\"text-align: right;\">\n",
       "      <th></th>\n",
       "      <th>diskname</th>\n",
       "      <th>lgbm_7_model_mae_mean</th>\n",
       "      <th>lgbm_7_model_mae_std</th>\n",
       "      <th>lgbm_30_model_mae_mean</th>\n",
       "      <th>lgbm_30_model_mae_std</th>\n",
       "      <th>arima_30_model_mae_mean</th>\n",
       "      <th>arima_30_model_mae_std</th>\n",
       "    </tr>\n",
       "  </thead>\n",
       "  <tbody>\n",
       "    <tr>\n",
       "      <th>0</th>\n",
       "      <td>0</td>\n",
       "      <td>1.838813</td>\n",
       "      <td>0.975323</td>\n",
       "      <td>2.640144</td>\n",
       "      <td>0.636033</td>\n",
       "      <td>2.798495</td>\n",
       "      <td>0.823476</td>\n",
       "    </tr>\n",
       "    <tr>\n",
       "      <th>1</th>\n",
       "      <td>1</td>\n",
       "      <td>2.373196</td>\n",
       "      <td>0.539590</td>\n",
       "      <td>2.422386</td>\n",
       "      <td>0.144601</td>\n",
       "      <td>1.266411</td>\n",
       "      <td>0.493651</td>\n",
       "    </tr>\n",
       "  </tbody>\n",
       "</table>\n",
       "</div>"
      ],
      "text/plain": [
       "  diskname  lgbm_7_model_mae_mean  lgbm_7_model_mae_std  \\\n",
       "0        0               1.838813              0.975323   \n",
       "1        1               2.373196              0.539590   \n",
       "\n",
       "   lgbm_30_model_mae_mean  lgbm_30_model_mae_std  arima_30_model_mae_mean  \\\n",
       "0                2.640144               0.636033                 2.798495   \n",
       "1                2.422386               0.144601                 1.266411   \n",
       "\n",
       "   arima_30_model_mae_std  \n",
       "0                0.823476  \n",
       "1                0.493651  "
      ]
     },
     "execution_count": 14,
     "metadata": {},
     "output_type": "execute_result"
    }
   ],
   "source": [
    "# Output of the model mapping process\n",
    "errors_df"
   ]
  },
  {
   "cell_type": "markdown",
   "id": "f5effa1e",
   "metadata": {},
   "source": [
    "### Now, let's match disks with their models based on their performance metrics"
   ]
  },
  {
   "cell_type": "code",
   "execution_count": 18,
   "id": "d599edb5",
   "metadata": {},
   "outputs": [],
   "source": [
    "model_mapping_df = feature_engine.get_model_selection(errors_df)"
   ]
  },
  {
   "cell_type": "code",
   "execution_count": 19,
   "id": "8862df85",
   "metadata": {},
   "outputs": [
    {
     "data": {
      "text/html": [
       "<div>\n",
       "<style scoped>\n",
       "    .dataframe tbody tr th:only-of-type {\n",
       "        vertical-align: middle;\n",
       "    }\n",
       "\n",
       "    .dataframe tbody tr th {\n",
       "        vertical-align: top;\n",
       "    }\n",
       "\n",
       "    .dataframe thead th {\n",
       "        text-align: right;\n",
       "    }\n",
       "</style>\n",
       "<table border=\"1\" class=\"dataframe\">\n",
       "  <thead>\n",
       "    <tr style=\"text-align: right;\">\n",
       "      <th></th>\n",
       "      <th>DiskName</th>\n",
       "      <th>CurrentAvgMae</th>\n",
       "      <th>CurrentStdMae</th>\n",
       "      <th>ModelId</th>\n",
       "    </tr>\n",
       "  </thead>\n",
       "  <tbody>\n",
       "    <tr>\n",
       "      <th>0</th>\n",
       "      <td>0</td>\n",
       "      <td>2.64014</td>\n",
       "      <td>0.63603</td>\n",
       "      <td>3</td>\n",
       "    </tr>\n",
       "    <tr>\n",
       "      <th>1</th>\n",
       "      <td>1</td>\n",
       "      <td>2.42239</td>\n",
       "      <td>0.14460</td>\n",
       "      <td>3</td>\n",
       "    </tr>\n",
       "  </tbody>\n",
       "</table>\n",
       "</div>"
      ],
      "text/plain": [
       "   DiskName  CurrentAvgMae  CurrentStdMae  ModelId\n",
       "0         0        2.64014        0.63603        3\n",
       "1         1        2.42239        0.14460        3"
      ]
     },
     "execution_count": 19,
     "metadata": {},
     "output_type": "execute_result"
    }
   ],
   "source": [
    "model_mapping_df"
   ]
  },
  {
   "cell_type": "markdown",
   "id": "8b4f4b1e",
   "metadata": {},
   "source": [
    "### Since we have matched our disks with their best suited time series model, we can make predictions now "
   ]
  },
  {
   "cell_type": "code",
   "execution_count": 22,
   "id": "bb9cb1f1",
   "metadata": {
    "scrolled": true
   },
   "outputs": [
    {
     "data": {
      "image/png": "[encoded data removed]",
      "text/plain": [
       "<Figure size 432x288 with 1 Axes>"
      ]
     },
     "metadata": {
      "needs_background": "light"
     },
     "output_type": "display_data"
    },
    {
     "data": {
      "image/png": "[encoded data removed]",
      "text/plain": [
       "<Figure size 432x288 with 1 Axes>"
      ]
     },
     "metadata": {
      "needs_background": "light"
     },
     "output_type": "display_data"
    }
   ],
   "source": [
    "predictions_df = pd.DataFrame()\n",
    "\n",
    "#Make predictions by iterating on each column from main df\n",
    "for i in df_disks_w_2disks.columns:\n",
    "    \n",
    "    series = df_disks_w_2disks.loc[:, i]\n",
    "    diskname = int(i)\n",
    "    model_id = model_mapping_df[model_mapping_df[\"DiskName\"].astype(\"int64\") == diskname][\"ModelId\"].iloc[0]\n",
    "\n",
    "    if model_id == 1:\n",
    "        series = preprocessor.convert_series2darts(series)\n",
    "        prediction = model_development.predict_arima(series)\n",
    "    elif model_id == 2:\n",
    "        series = preprocessor.convert_series2darts(series.iloc[-14:])\n",
    "        prediction = model_development.predict_lgbm_14(series)\n",
    "    elif model_id == 3:\n",
    "        series = preprocessor.convert_series2darts(series)\n",
    "        prediction = model_development.predict_lgbm_30(series)\n",
    "    elif model_id == 4:\n",
    "        prophet_df = preprocessor.convert_series2prophetdf(series.iloc[-7:])\n",
    "        prediction = model_development.predict_prophet(prophet_df)\n",
    "    else:\n",
    "        prophet_df = preprocessor.convert_series2prophetdf(series)\n",
    "        prediction = model_development.predict_prophet(prophet_df)\n",
    "        \n",
    "    predictions_df[i] = prediction.pd_dataframe()\n",
    "\n",
    "    #Plot forecasts\n",
    "    series.plot()\n",
    "    prediction.plot()\n",
    "    plt.legend(['Input data', 'Prediction'])\n",
    "    plt.ylim(0,100)\n",
    "    plt.xlabel('Date')\n",
    "    plt.ylabel('Disk Utilization')\n",
    "    plt.title(diskname)\n",
    "    plt.show()\n",
    "    "
   ]
  },
  {
   "cell_type": "markdown",
   "id": "72780c44",
   "metadata": {},
   "source": [
    "### Let's evaluate our results with the test set"
   ]
  },
  {
   "cell_type": "code",
   "execution_count": 23,
   "id": "b353cd42",
   "metadata": {},
   "outputs": [],
   "source": [
    "#Import test data\n",
    "test_df = pd.read_csv(\"sandbox_synthetic_test_data.csv\", parse_dates = [\"Date\"])\n",
    "test_df.set_index(\"Date\", inplace = True)"
   ]
  },
  {
   "cell_type": "code",
   "execution_count": 24,
   "id": "b2b6b6b8",
   "metadata": {},
   "outputs": [],
   "source": [
    "# Filter first 2 disks as we did in the training set\n",
    "test_df = test_df.iloc[:, :2]"
   ]
  },
  {
   "cell_type": "code",
   "execution_count": 25,
   "id": "131097c6",
   "metadata": {},
   "outputs": [
    {
     "name": "stdout",
     "output_type": "stream",
     "text": [
      "Error on disk 0: 5.08008243802117\n",
      "Error on disk 1: 4.719700479212796\n"
     ]
    }
   ],
   "source": [
    "#Evaluate results using Mean Absolute Error\n",
    "\n",
    "for i in test_df.columns:\n",
    "    print(\"Error on disk {}: {}\".format(i, mean_absolute_error(test_df[i], predictions_df[i])))"
   ]
  },
  {
   "cell_type": "markdown",
   "id": "4d663120",
   "metadata": {},
   "source": [
    "# Ray"
   ]
  },
  {
   "cell_type": "markdown",
   "id": "8534cc88",
   "metadata": {},
   "source": [
    "### What is Ray?\n",
    "Ray is an open-source distributed technology that makes scaling Python applications a more intuitive and simpler process. It offers several libraries for scalable model training, model serving, hyper-parameter tuning, reinforcement learning and scaling any Python application. For this project, we used Ray Core which is the core library that other Ray libraries were built on top of. It is used to convert any Python application to a distributed setup.\n",
    "\n",
    "Ray official website: www.ray.io \n",
    "\n",
    "Ray documentation: https://docs.ray.io/en/latest/"
   ]
  },
  {
   "cell_type": "markdown",
   "id": "2909c8be",
   "metadata": {},
   "source": [
    "### A simple tutorial"
   ]
  },
  {
   "cell_type": "markdown",
   "id": "7721bd66",
   "metadata": {},
   "source": [
    "We will demonstrate the usage of Ray with the simplest use case where tasks mimic 2.5 seconds of computation."
   ]
  },
  {
   "cell_type": "code",
   "execution_count": 12,
   "id": "4074ae80",
   "metadata": {},
   "outputs": [],
   "source": [
    "import time\n",
    "\n",
    "def task(id):\n",
    "    time.sleep(2.5)   \n",
    "    print(f\"Done: {id}\")\n",
    "    \n",
    "    return"
   ]
  },
  {
   "cell_type": "code",
   "execution_count": 13,
   "id": "15de76d5",
   "metadata": {},
   "outputs": [
    {
     "name": "stdout",
     "output_type": "stream",
     "text": [
      "Done: 1\n",
      "Done: 2\n",
      "Done: 3\n",
      "Elapsed time: 7.508549928665161\n"
     ]
    }
   ],
   "source": [
    "start = time.time()\n",
    "[task(i+1) for i in range(3)]\n",
    "print(f\"Elapsed time: {time.time()-start}\")"
   ]
  },
  {
   "cell_type": "markdown",
   "id": "a23226e4",
   "metadata": {},
   "source": [
    "\n",
    "\n",
    "By placing a ray decorator on top of a function, we convert a function to a Ray task. We can call Ray tasks in an asynchronous way. Ray is going to handle the scheduling and resource management. Under the hood, it will utilize the available computational resources.\n",
    "\n",
    "### Let's convert our function into a Ray task"
   ]
  },
  {
   "cell_type": "code",
   "execution_count": 1,
   "id": "8a1c740b",
   "metadata": {},
   "outputs": [],
   "source": [
    "import ray\n",
    "\n",
    "@ray.remote\n",
    "def ray_task(id):\n",
    "    time.sleep(2.5)\n",
    "    print(f\"Done: {id}\")\n",
    "    \n",
    "    return"
   ]
  },
  {
   "cell_type": "markdown",
   "id": "4f3f24c6",
   "metadata": {},
   "source": [
    "In order to call many Ray tasks in an asynchronous way, we use remote() method at the end of the function. As soon as we call the remote() method, the program flow will proceed asynchronously but under the hood, Ray starts the execution of Ray tasks. It will return us a feature id which is the representation of the eventual result."
   ]
  },
  {
   "cell_type": "code",
   "execution_count": 53,
   "id": "1efe1752",
   "metadata": {},
   "outputs": [
    {
     "name": "stdout",
     "output_type": "stream",
     "text": [
      "The first future id: ObjectRef(46766c5b0167bafaffffffffffffffffffffffff0100000001000000)\n",
      "\n",
      "Elapsed time: 2.520063877105713\n",
      "\u001b[2m\u001b[36m(ray_task pid=2312287)\u001b[0m done: 10\n",
      "\u001b[2m\u001b[36m(ray_task pid=2312280)\u001b[0m done: 1\n",
      "\u001b[2m\u001b[36m(ray_task pid=2312288)\u001b[0m done: 8\n",
      "\u001b[2m\u001b[36m(ray_task pid=2312277)\u001b[0m done: 6\n",
      "\u001b[2m\u001b[36m(ray_task pid=2312294)\u001b[0m done: 4\n",
      "\u001b[2m\u001b[36m(ray_task pid=2312286)\u001b[0m done: 3\n",
      "\u001b[2m\u001b[36m(ray_task pid=2312283)\u001b[0m done: 2\n",
      "\u001b[2m\u001b[36m(ray_task pid=2312305)\u001b[0m done: 12\n",
      "\u001b[2m\u001b[36m(ray_task pid=2312285)\u001b[0m done: 13\n",
      "\u001b[2m\u001b[36m(ray_task pid=2312281)\u001b[0m done: 14\n",
      "\u001b[2m\u001b[36m(ray_task pid=2312304)\u001b[0m done: 5\n",
      "\u001b[2m\u001b[36m(ray_task pid=2312301)\u001b[0m done: 11\n",
      "\u001b[2m\u001b[36m(ray_task pid=2312282)\u001b[0m done: 9\n",
      "\u001b[2m\u001b[36m(ray_task pid=2312278)\u001b[0m done: 7\n"
     ]
    }
   ],
   "source": [
    "start = time.time()\n",
    "future_id_list = [ray_task.remote(i+1) for i in range(14)]\n",
    "print(f'The first future id: {future_id_list[0]}')\n",
    "ray.get(future_id_list)\n",
    "print(f\"\\nElapsed time: {time.time()-start}\")"
   ]
  },
  {
   "cell_type": "markdown",
   "id": "f00d1fa3",
   "metadata": {},
   "source": [
    "### Note: Check the elapsed time for Ray and compare it with the elapsed time of the above function without Ray"
   ]
  },
  {
   "cell_type": "markdown",
   "id": "332505a3",
   "metadata": {},
   "source": [
    "### A Ray Cluster\n",
    "\n",
    "While Ray can distribute the workload among the available cores on a single machine, it can also the handle the distribution of the workload to a Ray cluster, either on-prem or on cloud. This gives an enourmous speed and unlimited scaling option for your workload."
   ]
  },
  {
   "cell_type": "markdown",
   "id": "1f9cc764",
   "metadata": {},
   "source": [
    "<img src='raycluster1.jpg' width=\"800\" height=\"800\" align=\"left\">"
   ]
  },
  {
   "cell_type": "markdown",
   "id": "babd48bb",
   "metadata": {},
   "source": [
    "Note: We do not have on-prem Ray cluster for this demonstration (But we have cloud!). We will work with a single node Ray session which will use all the cores available unless it is changed. "
   ]
  },
  {
   "cell_type": "markdown",
   "id": "0e90bc7b",
   "metadata": {},
   "source": [
    "# Solving the bussiness problem with Ray"
   ]
  },
  {
   "cell_type": "markdown",
   "id": "787a17fd",
   "metadata": {},
   "source": [
    "### Let's pick a number between 5 and 15 in the below cell for the number of disks to be mapped with Ray implementation now"
   ]
  },
  {
   "cell_type": "code",
   "execution_count": 58,
   "id": "6e8be84a",
   "metadata": {},
   "outputs": [
    {
     "name": "stdout",
     "output_type": "stream",
     "text": [
      "15\n"
     ]
    }
   ],
   "source": [
    "#Please specify the number of disks for this demo\n",
    "#Choose between 5 to 15 and press Enter\n",
    "ray_nb_of_disks = int(input())\n",
    "\n",
    "#Filter columns based on the given input\n",
    "df_disks = df_disks.iloc[:, :nb_of_disks]"
   ]
  },
  {
   "cell_type": "code",
   "execution_count": 59,
   "id": "75c44066",
   "metadata": {},
   "outputs": [],
   "source": [
    "import ray"
   ]
  },
  {
   "cell_type": "code",
   "execution_count": 61,
   "id": "4bf4ec36",
   "metadata": {},
   "outputs": [
    {
     "data": {
      "text/plain": [
       "{'node_ip_address': '172.18.228.122',\n",
       " 'raylet_ip_address': '172.18.228.122',\n",
       " 'redis_address': '172.18.228.122:41463',\n",
       " 'object_store_address': '/tmp/ray/session_2022-04-14_15-46-44_144065_2233439/sockets/plasma_store',\n",
       " 'raylet_socket_name': '/tmp/ray/session_2022-04-14_15-46-44_144065_2233439/sockets/raylet',\n",
       " 'webui_url': None,\n",
       " 'session_dir': '/tmp/ray/session_2022-04-14_15-46-44_144065_2233439',\n",
       " 'metrics_export_port': 55451,\n",
       " 'gcs_address': '172.18.228.122:36281',\n",
       " 'node_id': 'f0fc374ab9f259ded1d6922329d1c58956beb2fd3990c0f2deadf787'}"
      ]
     },
     "execution_count": 61,
     "metadata": {},
     "output_type": "execute_result"
    }
   ],
   "source": [
    "ray.shutdown()\n",
    "ray.init(log_to_driver=False, include_dashboard=False)"
   ]
  },
  {
   "cell_type": "code",
   "execution_count": 67,
   "id": "102e5263",
   "metadata": {},
   "outputs": [
    {
     "ename": "RayTaskError(AttributeError)",
     "evalue": "\u001b[36mray::cluster_disk_task()\u001b[39m (pid=2349323, ip=172.18.228.122)\n  File \"/data/scanalytics/KS_DiskKapasiteTahminleme/sandbox_src/feature_engineering/feature_engineering.py\", line 259, in cluster_disk_task\n    errors_df = self.create_model_error_df(diskname, lgbm_7_model_mae_mean, lgbm_7_model_mae_std, lgbm_30_model_mae_mean, lgbm_30_model_mae_std, arima_30_model_mae_mean, arima_30_model_mae_std)\nAttributeError: 'int' object has no attribute 'create_model_error_df'",
     "output_type": "error",
     "traceback": [
      "\u001b[0;31m---------------------------------------------------------------------------\u001b[0m",
      "\u001b[0;31mRayTaskError(AttributeError)\u001b[0m              Traceback (most recent call last)",
      "\u001b[0;32m<ipython-input-67-692ca0eb7cd1>\u001b[0m in \u001b[0;36m<module>\u001b[0;34m\u001b[0m\n\u001b[1;32m      4\u001b[0m \u001b[0;32mfor\u001b[0m \u001b[0mcol\u001b[0m \u001b[0;32min\u001b[0m \u001b[0mdf_disks\u001b[0m\u001b[0;34m.\u001b[0m\u001b[0mcolumns\u001b[0m\u001b[0;34m:\u001b[0m\u001b[0;34m\u001b[0m\u001b[0;34m\u001b[0m\u001b[0m\n\u001b[1;32m      5\u001b[0m     \u001b[0mfutures\u001b[0m\u001b[0;34m.\u001b[0m\u001b[0mappend\u001b[0m\u001b[0;34m(\u001b[0m\u001b[0mfeature_engine\u001b[0m\u001b[0;34m.\u001b[0m\u001b[0mcluster_disk_task\u001b[0m\u001b[0;34m.\u001b[0m\u001b[0mremote\u001b[0m\u001b[0;34m(\u001b[0m\u001b[0;36m1\u001b[0m\u001b[0;34m,\u001b[0m \u001b[0mdf_disks\u001b[0m\u001b[0;34m[\u001b[0m\u001b[0mcol\u001b[0m\u001b[0;34m]\u001b[0m\u001b[0;34m)\u001b[0m\u001b[0;34m)\u001b[0m\u001b[0;34m\u001b[0m\u001b[0;34m\u001b[0m\u001b[0m\n\u001b[0;32m----> 6\u001b[0;31m \u001b[0mray\u001b[0m\u001b[0;34m.\u001b[0m\u001b[0mget\u001b[0m\u001b[0;34m(\u001b[0m\u001b[0mfutures\u001b[0m\u001b[0;34m)\u001b[0m\u001b[0;34m\u001b[0m\u001b[0;34m\u001b[0m\u001b[0m\n\u001b[0m\u001b[1;32m      7\u001b[0m \u001b[0;34m\u001b[0m\u001b[0m\n\u001b[1;32m      8\u001b[0m \u001b[0melapsed_time\u001b[0m \u001b[0;34m=\u001b[0m \u001b[0mtime\u001b[0m\u001b[0;34m.\u001b[0m\u001b[0mtime\u001b[0m\u001b[0;34m(\u001b[0m\u001b[0;34m)\u001b[0m \u001b[0;34m-\u001b[0m \u001b[0mstart_time\u001b[0m\u001b[0;34m\u001b[0m\u001b[0;34m\u001b[0m\u001b[0m\n",
      "\u001b[0;32m/usr/lib/anaconda/lib/python3.8/site-packages/ray/_private/client_mode_hook.py\u001b[0m in \u001b[0;36mwrapper\u001b[0;34m(*args, **kwargs)\u001b[0m\n\u001b[1;32m    103\u001b[0m             \u001b[0;32mif\u001b[0m \u001b[0mfunc\u001b[0m\u001b[0;34m.\u001b[0m\u001b[0m__name__\u001b[0m \u001b[0;34m!=\u001b[0m \u001b[0;34m\"init\"\u001b[0m \u001b[0;32mor\u001b[0m \u001b[0mis_client_mode_enabled_by_default\u001b[0m\u001b[0;34m:\u001b[0m\u001b[0;34m\u001b[0m\u001b[0;34m\u001b[0m\u001b[0m\n\u001b[1;32m    104\u001b[0m                 \u001b[0;32mreturn\u001b[0m \u001b[0mgetattr\u001b[0m\u001b[0;34m(\u001b[0m\u001b[0mray\u001b[0m\u001b[0;34m,\u001b[0m \u001b[0mfunc\u001b[0m\u001b[0;34m.\u001b[0m\u001b[0m__name__\u001b[0m\u001b[0;34m)\u001b[0m\u001b[0;34m(\u001b[0m\u001b[0;34m*\u001b[0m\u001b[0margs\u001b[0m\u001b[0;34m,\u001b[0m \u001b[0;34m**\u001b[0m\u001b[0mkwargs\u001b[0m\u001b[0;34m)\u001b[0m\u001b[0;34m\u001b[0m\u001b[0;34m\u001b[0m\u001b[0m\n\u001b[0;32m--> 105\u001b[0;31m         \u001b[0;32mreturn\u001b[0m \u001b[0mfunc\u001b[0m\u001b[0;34m(\u001b[0m\u001b[0;34m*\u001b[0m\u001b[0margs\u001b[0m\u001b[0;34m,\u001b[0m \u001b[0;34m**\u001b[0m\u001b[0mkwargs\u001b[0m\u001b[0;34m)\u001b[0m\u001b[0;34m\u001b[0m\u001b[0;34m\u001b[0m\u001b[0m\n\u001b[0m\u001b[1;32m    106\u001b[0m \u001b[0;34m\u001b[0m\u001b[0m\n\u001b[1;32m    107\u001b[0m     \u001b[0;32mreturn\u001b[0m \u001b[0mwrapper\u001b[0m\u001b[0;34m\u001b[0m\u001b[0;34m\u001b[0m\u001b[0m\n",
      "\u001b[0;32m/usr/lib/anaconda/lib/python3.8/site-packages/ray/worker.py\u001b[0m in \u001b[0;36mget\u001b[0;34m(object_refs, timeout)\u001b[0m\n\u001b[1;32m   1731\u001b[0m                     \u001b[0mworker\u001b[0m\u001b[0;34m.\u001b[0m\u001b[0mcore_worker\u001b[0m\u001b[0;34m.\u001b[0m\u001b[0mdump_object_store_memory_usage\u001b[0m\u001b[0;34m(\u001b[0m\u001b[0;34m)\u001b[0m\u001b[0;34m\u001b[0m\u001b[0;34m\u001b[0m\u001b[0m\n\u001b[1;32m   1732\u001b[0m                 \u001b[0;32mif\u001b[0m \u001b[0misinstance\u001b[0m\u001b[0;34m(\u001b[0m\u001b[0mvalue\u001b[0m\u001b[0;34m,\u001b[0m \u001b[0mRayTaskError\u001b[0m\u001b[0;34m)\u001b[0m\u001b[0;34m:\u001b[0m\u001b[0;34m\u001b[0m\u001b[0;34m\u001b[0m\u001b[0m\n\u001b[0;32m-> 1733\u001b[0;31m                     \u001b[0;32mraise\u001b[0m \u001b[0mvalue\u001b[0m\u001b[0;34m.\u001b[0m\u001b[0mas_instanceof_cause\u001b[0m\u001b[0;34m(\u001b[0m\u001b[0;34m)\u001b[0m\u001b[0;34m\u001b[0m\u001b[0;34m\u001b[0m\u001b[0m\n\u001b[0m\u001b[1;32m   1734\u001b[0m                 \u001b[0;32melse\u001b[0m\u001b[0;34m:\u001b[0m\u001b[0;34m\u001b[0m\u001b[0;34m\u001b[0m\u001b[0m\n\u001b[1;32m   1735\u001b[0m                     \u001b[0;32mraise\u001b[0m \u001b[0mvalue\u001b[0m\u001b[0;34m\u001b[0m\u001b[0;34m\u001b[0m\u001b[0m\n",
      "\u001b[0;31mRayTaskError(AttributeError)\u001b[0m: \u001b[36mray::cluster_disk_task()\u001b[39m (pid=2349323, ip=172.18.228.122)\n  File \"/data/scanalytics/KS_DiskKapasiteTahminleme/sandbox_src/feature_engineering/feature_engineering.py\", line 259, in cluster_disk_task\n    errors_df = self.create_model_error_df(diskname, lgbm_7_model_mae_mean, lgbm_7_model_mae_std, lgbm_30_model_mae_mean, lgbm_30_model_mae_std, arima_30_model_mae_mean, arima_30_model_mae_std)\nAttributeError: 'int' object has no attribute 'create_model_error_df'"
     ]
    },
    {
     "name": "stderr",
     "output_type": "stream",
     "text": [
      "2022-04-14 15:52:46,947\tERROR worker.py:85 -- Unhandled error (suppress with RAY_IGNORE_UNHANDLED_ERRORS=1): \u001b[36mray::cluster_disk_task()\u001b[39m (pid=2349325, ip=172.18.228.122)\n",
      "  File \"/data/scanalytics/KS_DiskKapasiteTahminleme/sandbox_src/feature_engineering/feature_engineering.py\", line 259, in cluster_disk_task\n",
      "    errors_df = self.create_model_error_df(diskname, lgbm_7_model_mae_mean, lgbm_7_model_mae_std, lgbm_30_model_mae_mean, lgbm_30_model_mae_std, arima_30_model_mae_mean, arima_30_model_mae_std)\n",
      "AttributeError: 'int' object has no attribute 'create_model_error_df'\n",
      "2022-04-14 15:52:46,950\tERROR worker.py:85 -- Unhandled error (suppress with RAY_IGNORE_UNHANDLED_ERRORS=1): \u001b[36mray::cluster_disk_task()\u001b[39m (pid=2349316, ip=172.18.228.122)\n",
      "  File \"/data/scanalytics/KS_DiskKapasiteTahminleme/sandbox_src/feature_engineering/feature_engineering.py\", line 259, in cluster_disk_task\n",
      "    errors_df = self.create_model_error_df(diskname, lgbm_7_model_mae_mean, lgbm_7_model_mae_std, lgbm_30_model_mae_mean, lgbm_30_model_mae_std, arima_30_model_mae_mean, arima_30_model_mae_std)\n",
      "AttributeError: 'int' object has no attribute 'create_model_error_df'\n",
      "2022-04-14 15:52:46,952\tERROR worker.py:85 -- Unhandled error (suppress with RAY_IGNORE_UNHANDLED_ERRORS=1): \u001b[36mray::cluster_disk_task()\u001b[39m (pid=2349319, ip=172.18.228.122)\n",
      "  File \"/data/scanalytics/KS_DiskKapasiteTahminleme/sandbox_src/feature_engineering/feature_engineering.py\", line 259, in cluster_disk_task\n",
      "    errors_df = self.create_model_error_df(diskname, lgbm_7_model_mae_mean, lgbm_7_model_mae_std, lgbm_30_model_mae_mean, lgbm_30_model_mae_std, arima_30_model_mae_mean, arima_30_model_mae_std)\n",
      "AttributeError: 'int' object has no attribute 'create_model_error_df'\n",
      "2022-04-14 15:52:46,956\tERROR worker.py:85 -- Unhandled error (suppress with RAY_IGNORE_UNHANDLED_ERRORS=1): \u001b[36mray::cluster_disk_task()\u001b[39m (pid=2349333, ip=172.18.228.122)\n",
      "  File \"/data/scanalytics/KS_DiskKapasiteTahminleme/sandbox_src/feature_engineering/feature_engineering.py\", line 259, in cluster_disk_task\n",
      "    errors_df = self.create_model_error_df(diskname, lgbm_7_model_mae_mean, lgbm_7_model_mae_std, lgbm_30_model_mae_mean, lgbm_30_model_mae_std, arima_30_model_mae_mean, arima_30_model_mae_std)\n",
      "AttributeError: 'int' object has no attribute 'create_model_error_df'\n",
      "2022-04-14 15:52:46,959\tERROR worker.py:85 -- Unhandled error (suppress with RAY_IGNORE_UNHANDLED_ERRORS=1): \u001b[36mray::cluster_disk_task()\u001b[39m (pid=2349322, ip=172.18.228.122)\n",
      "  File \"/data/scanalytics/KS_DiskKapasiteTahminleme/sandbox_src/feature_engineering/feature_engineering.py\", line 259, in cluster_disk_task\n",
      "    errors_df = self.create_model_error_df(diskname, lgbm_7_model_mae_mean, lgbm_7_model_mae_std, lgbm_30_model_mae_mean, lgbm_30_model_mae_std, arima_30_model_mae_mean, arima_30_model_mae_std)\n",
      "AttributeError: 'int' object has no attribute 'create_model_error_df'\n",
      "2022-04-14 15:52:48,947\tERROR worker.py:85 -- Unhandled error (suppress with RAY_IGNORE_UNHANDLED_ERRORS=1): \u001b[36mray::cluster_disk_task()\u001b[39m (pid=2349314, ip=172.18.228.122)\n",
      "  File \"/data/scanalytics/KS_DiskKapasiteTahminleme/sandbox_src/feature_engineering/feature_engineering.py\", line 259, in cluster_disk_task\n",
      "    errors_df = self.create_model_error_df(diskname, lgbm_7_model_mae_mean, lgbm_7_model_mae_std, lgbm_30_model_mae_mean, lgbm_30_model_mae_std, arima_30_model_mae_mean, arima_30_model_mae_std)\n",
      "AttributeError: 'int' object has no attribute 'create_model_error_df'\n",
      "2022-04-14 15:52:49,950\tERROR worker.py:85 -- Unhandled error (suppress with RAY_IGNORE_UNHANDLED_ERRORS=1): \u001b[36mray::cluster_disk_task()\u001b[39m (pid=2349318, ip=172.18.228.122)\n",
      "  File \"/data/scanalytics/KS_DiskKapasiteTahminleme/sandbox_src/feature_engineering/feature_engineering.py\", line 259, in cluster_disk_task\n",
      "    errors_df = self.create_model_error_df(diskname, lgbm_7_model_mae_mean, lgbm_7_model_mae_std, lgbm_30_model_mae_mean, lgbm_30_model_mae_std, arima_30_model_mae_mean, arima_30_model_mae_std)\n",
      "AttributeError: 'int' object has no attribute 'create_model_error_df'\n",
      "2022-04-14 15:52:50,950\tERROR worker.py:85 -- Unhandled error (suppress with RAY_IGNORE_UNHANDLED_ERRORS=1): \u001b[36mray::cluster_disk_task()\u001b[39m (pid=2349321, ip=172.18.228.122)\n",
      "  File \"/data/scanalytics/KS_DiskKapasiteTahminleme/sandbox_src/feature_engineering/feature_engineering.py\", line 259, in cluster_disk_task\n",
      "    errors_df = self.create_model_error_df(diskname, lgbm_7_model_mae_mean, lgbm_7_model_mae_std, lgbm_30_model_mae_mean, lgbm_30_model_mae_std, arima_30_model_mae_mean, arima_30_model_mae_std)\n",
      "AttributeError: 'int' object has no attribute 'create_model_error_df'\n",
      "2022-04-14 15:52:50,953\tERROR worker.py:85 -- Unhandled error (suppress with RAY_IGNORE_UNHANDLED_ERRORS=1): \u001b[36mray::cluster_disk_task()\u001b[39m (pid=2349317, ip=172.18.228.122)\n",
      "  File \"/data/scanalytics/KS_DiskKapasiteTahminleme/sandbox_src/feature_engineering/feature_engineering.py\", line 259, in cluster_disk_task\n",
      "    errors_df = self.create_model_error_df(diskname, lgbm_7_model_mae_mean, lgbm_7_model_mae_std, lgbm_30_model_mae_mean, lgbm_30_model_mae_std, arima_30_model_mae_mean, arima_30_model_mae_std)\n",
      "AttributeError: 'int' object has no attribute 'create_model_error_df'\n",
      "2022-04-14 15:52:50,956\tERROR worker.py:85 -- Unhandled error (suppress with RAY_IGNORE_UNHANDLED_ERRORS=1): \u001b[36mray::cluster_disk_task()\u001b[39m (pid=2349330, ip=172.18.228.122)\n",
      "  File \"/data/scanalytics/KS_DiskKapasiteTahminleme/sandbox_src/feature_engineering/feature_engineering.py\", line 259, in cluster_disk_task\n",
      "    errors_df = self.create_model_error_df(diskname, lgbm_7_model_mae_mean, lgbm_7_model_mae_std, lgbm_30_model_mae_mean, lgbm_30_model_mae_std, arima_30_model_mae_mean, arima_30_model_mae_std)\n",
      "AttributeError: 'int' object has no attribute 'create_model_error_df'\n",
      "2022-04-14 15:52:50,959\tERROR worker.py:85 -- Unhandled error (suppress with RAY_IGNORE_UNHANDLED_ERRORS=1): \u001b[36mray::cluster_disk_task()\u001b[39m (pid=2349313, ip=172.18.228.122)\n",
      "  File \"/data/scanalytics/KS_DiskKapasiteTahminleme/sandbox_src/feature_engineering/feature_engineering.py\", line 259, in cluster_disk_task\n",
      "    errors_df = self.create_model_error_df(diskname, lgbm_7_model_mae_mean, lgbm_7_model_mae_std, lgbm_30_model_mae_mean, lgbm_30_model_mae_std, arima_30_model_mae_mean, arima_30_model_mae_std)\n",
      "AttributeError: 'int' object has no attribute 'create_model_error_df'\n",
      "2022-04-14 15:52:52,950\tERROR worker.py:85 -- Unhandled error (suppress with RAY_IGNORE_UNHANDLED_ERRORS=1): \u001b[36mray::cluster_disk_task()\u001b[39m (pid=2349315, ip=172.18.228.122)\n",
      "  File \"/data/scanalytics/KS_DiskKapasiteTahminleme/sandbox_src/feature_engineering/feature_engineering.py\", line 259, in cluster_disk_task\n",
      "    errors_df = self.create_model_error_df(diskname, lgbm_7_model_mae_mean, lgbm_7_model_mae_std, lgbm_30_model_mae_mean, lgbm_30_model_mae_std, arima_30_model_mae_mean, arima_30_model_mae_std)\n",
      "AttributeError: 'int' object has no attribute 'create_model_error_df'\n",
      "2022-04-14 15:52:53,951\tERROR worker.py:85 -- Unhandled error (suppress with RAY_IGNORE_UNHANDLED_ERRORS=1): \u001b[36mray::cluster_disk_task()\u001b[39m (pid=2349326, ip=172.18.228.122)\n",
      "  File \"/data/scanalytics/KS_DiskKapasiteTahminleme/sandbox_src/feature_engineering/feature_engineering.py\", line 259, in cluster_disk_task\n",
      "    errors_df = self.create_model_error_df(diskname, lgbm_7_model_mae_mean, lgbm_7_model_mae_std, lgbm_30_model_mae_mean, lgbm_30_model_mae_std, arima_30_model_mae_mean, arima_30_model_mae_std)\n",
      "AttributeError: 'int' object has no attribute 'create_model_error_df'\n",
      "2022-04-14 15:53:00,954\tERROR worker.py:85 -- Unhandled error (suppress with RAY_IGNORE_UNHANDLED_ERRORS=1): \u001b[36mray::cluster_disk_task()\u001b[39m (pid=2349324, ip=172.18.228.122)\n",
      "  File \"/data/scanalytics/KS_DiskKapasiteTahminleme/sandbox_src/feature_engineering/feature_engineering.py\", line 259, in cluster_disk_task\n",
      "    errors_df = self.create_model_error_df(diskname, lgbm_7_model_mae_mean, lgbm_7_model_mae_std, lgbm_30_model_mae_mean, lgbm_30_model_mae_std, arima_30_model_mae_mean, arima_30_model_mae_std)\n",
      "AttributeError: 'int' object has no attribute 'create_model_error_df'\n"
     ]
    }
   ],
   "source": [
    "start_time = time.time()\n",
    "\n",
    "futures = []\n",
    "for col in df_disks.columns:\n",
    "    futures.append(feature_engine.cluster_disk_task.remote(1, df_disks[col]))\n",
    "ray.get(futures)\n",
    "\n",
    "ray_elapsed_time = time.time() - start_time\n",
    "print(f'The total elapsed time for model mapping process with {ray_nb_of_disks} disks and Ray is: {ray_elapsed_time:.2f} seconds')"
   ]
  },
  {
   "cell_type": "code",
   "execution_count": 65,
   "id": "ab729544",
   "metadata": {},
   "outputs": [
    {
     "ename": "AttributeError",
     "evalue": "'RemoteFunction' object has no attribute 'info'",
     "output_type": "error",
     "traceback": [
      "\u001b[0;31m---------------------------------------------------------------------------\u001b[0m",
      "\u001b[0;31mAttributeError\u001b[0m                            Traceback (most recent call last)",
      "\u001b[0;32m<ipython-input-65-222d3043e733>\u001b[0m in \u001b[0;36m<module>\u001b[0;34m\u001b[0m\n\u001b[0;32m----> 1\u001b[0;31m \u001b[0mfeature_engine\u001b[0m\u001b[0;34m.\u001b[0m\u001b[0mcluster_disk_task\u001b[0m\u001b[0;34m.\u001b[0m\u001b[0minfo\u001b[0m\u001b[0;34m\u001b[0m\u001b[0;34m\u001b[0m\u001b[0m\n\u001b[0m",
      "\u001b[0;31mAttributeError\u001b[0m: 'RemoteFunction' object has no attribute 'info'"
     ]
    }
   ],
   "source": [
    "feature_engine.cluster_disk_task"
   ]
  },
  {
   "cell_type": "markdown",
   "id": "7522e480",
   "metadata": {},
   "source": [
    "## Performance Comparison"
   ]
  },
  {
   "cell_type": "code",
   "execution_count": null,
   "id": "d5c58596",
   "metadata": {},
   "outputs": [],
   "source": [
    "print(f\"Elapsed time for synchronous Python with 2 disks = {elapsed_time:.2f} -> Throughput = {2/elapsed_time:.2f}\")\n",
    "print(f\"Elapsed time for Ray with {nb_of_disks_ray} disks = {ray_elapsed_time:.2f} -> Throughput = {nb_of_disks_ray/ray_elapsed_time:.2f}\")"
   ]
  },
  {
   "cell_type": "markdown",
   "id": "c2866ea7",
   "metadata": {},
   "source": [
    "# Anyscale"
   ]
  },
  {
   "cell_type": "markdown",
   "id": "ee5fe2c8",
   "metadata": {},
   "source": [
    "### What is Anyscale?\n",
    "\n",
    "\"Anyscale is a fully-managed Ray offering, from the creators of Ray. It accelerates building, scaling and deploying AI applications on Ray by eliminating the need to build and manage complex infrastructure.\" - Anyscale.com\n",
    "\n",
    "https://www.anyscale.com/\n",
    "\n",
    "We do not need to concern about the infrastructure of our Ray applications, since Anyscale handles the provision."
   ]
  },
  {
   "cell_type": "markdown",
   "id": "e9591644",
   "metadata": {},
   "source": [
    "### How to use it?\n",
    "\n",
    "To connect our Ray application to our Anyscale cluster in the cloud, we just need to add a keyword to our ray.init() function.\n",
    "\n",
    "For the local, it was: \n",
    "<b> ray.init( ) </b>\n",
    "\n",
    "\n",
    "For the cloud, it is:\n",
    "<b> ray.init(\"anyscale://disk-demo-cluster\") </b>\n",
    "\n",
    "Once you do that, your Ray application will connect to the cluster and all the work you give to Ray will be conveyed to cluster."
   ]
  },
  {
   "cell_type": "markdown",
   "id": "2cb20286",
   "metadata": {},
   "source": [
    "### Setting up the cluster\n",
    "\n"
   ]
  },
  {
   "cell_type": "markdown",
   "id": "ac22a5a9",
   "metadata": {},
   "source": [
    "<img src='anyscale_homepage.png' width=\"900\" height=\"900\" align=\"left\">"
   ]
  },
  {
   "cell_type": "markdown",
   "id": "15bae12c",
   "metadata": {},
   "source": [
    "Above is the homepage for Anyscale. You can work on your cluster from the left navigation panel."
   ]
  },
  {
   "cell_type": "markdown",
   "id": "24eae99d",
   "metadata": {},
   "source": [
    "<img src='anyscale_new_cluster.png' width=\"900\" height=\"900\" align=\"left\">"
   ]
  },
  {
   "cell_type": "markdown",
   "id": "ff231a5c",
   "metadata": {},
   "source": [
    "Anyscale handles AWS resources for us. We can select an instance type from AWS' rich EC2 pool."
   ]
  },
  {
   "cell_type": "markdown",
   "id": "083be082",
   "metadata": {},
   "source": [
    "Once this is done, we can connect this cluster to our Ray application using the name of the cluster."
   ]
  },
  {
   "cell_type": "code",
   "execution_count": 20,
   "id": "a786bfe8",
   "metadata": {},
   "outputs": [
    {
     "ename": "RuntimeError",
     "evalue": "Module: anyscale does not exist.\nThis module was parsed from Address: anyscale://disk-demo-cluster",
     "output_type": "error",
     "traceback": [
      "\u001b[0;31m---------------------------------------------------------------------------\u001b[0m",
      "\u001b[0;31mRuntimeError\u001b[0m                              Traceback (most recent call last)",
      "\u001b[0;32m<ipython-input-20-f5ea6123c30a>\u001b[0m in \u001b[0;36m<module>\u001b[0;34m\u001b[0m\n\u001b[0;32m----> 1\u001b[0;31m \u001b[0mray\u001b[0m\u001b[0;34m.\u001b[0m\u001b[0minit\u001b[0m\u001b[0;34m(\u001b[0m\u001b[0;34m\"anyscale://disk-demo-cluster\"\u001b[0m\u001b[0;34m)\u001b[0m\u001b[0;34m\u001b[0m\u001b[0;34m\u001b[0m\u001b[0m\n\u001b[0m",
      "\u001b[0;32m/usr/lib/anaconda/lib/python3.8/site-packages/ray/_private/client_mode_hook.py\u001b[0m in \u001b[0;36mwrapper\u001b[0;34m(*args, **kwargs)\u001b[0m\n\u001b[1;32m    103\u001b[0m             \u001b[0;32mif\u001b[0m \u001b[0mfunc\u001b[0m\u001b[0;34m.\u001b[0m\u001b[0m__name__\u001b[0m \u001b[0;34m!=\u001b[0m \u001b[0;34m\"init\"\u001b[0m \u001b[0;32mor\u001b[0m \u001b[0mis_client_mode_enabled_by_default\u001b[0m\u001b[0;34m:\u001b[0m\u001b[0;34m\u001b[0m\u001b[0;34m\u001b[0m\u001b[0m\n\u001b[1;32m    104\u001b[0m                 \u001b[0;32mreturn\u001b[0m \u001b[0mgetattr\u001b[0m\u001b[0;34m(\u001b[0m\u001b[0mray\u001b[0m\u001b[0;34m,\u001b[0m \u001b[0mfunc\u001b[0m\u001b[0;34m.\u001b[0m\u001b[0m__name__\u001b[0m\u001b[0;34m)\u001b[0m\u001b[0;34m(\u001b[0m\u001b[0;34m*\u001b[0m\u001b[0margs\u001b[0m\u001b[0;34m,\u001b[0m \u001b[0;34m**\u001b[0m\u001b[0mkwargs\u001b[0m\u001b[0;34m)\u001b[0m\u001b[0;34m\u001b[0m\u001b[0;34m\u001b[0m\u001b[0m\n\u001b[0;32m--> 105\u001b[0;31m         \u001b[0;32mreturn\u001b[0m \u001b[0mfunc\u001b[0m\u001b[0;34m(\u001b[0m\u001b[0;34m*\u001b[0m\u001b[0margs\u001b[0m\u001b[0;34m,\u001b[0m \u001b[0;34m**\u001b[0m\u001b[0mkwargs\u001b[0m\u001b[0;34m)\u001b[0m\u001b[0;34m\u001b[0m\u001b[0;34m\u001b[0m\u001b[0m\n\u001b[0m\u001b[1;32m    106\u001b[0m \u001b[0;34m\u001b[0m\u001b[0m\n\u001b[1;32m    107\u001b[0m     \u001b[0;32mreturn\u001b[0m \u001b[0mwrapper\u001b[0m\u001b[0;34m\u001b[0m\u001b[0;34m\u001b[0m\u001b[0m\n",
      "\u001b[0;32m/usr/lib/anaconda/lib/python3.8/site-packages/ray/worker.py\u001b[0m in \u001b[0;36minit\u001b[0;34m(address, num_cpus, num_gpus, resources, object_store_memory, local_mode, ignore_reinit_error, include_dashboard, dashboard_host, dashboard_port, job_config, configure_logging, logging_level, logging_format, log_to_driver, namespace, runtime_env, _enable_object_reconstruction, _redis_max_memory, _plasma_directory, _node_ip_address, _driver_object_store_memory, _memory, _redis_password, _temp_dir, _metrics_export_port, _system_config, _tracing_startup_hook, **kwargs)\u001b[0m\n\u001b[1;32m    765\u001b[0m     \u001b[0;32mif\u001b[0m \u001b[0maddress\u001b[0m \u001b[0;32mis\u001b[0m \u001b[0;32mnot\u001b[0m \u001b[0;32mNone\u001b[0m \u001b[0;32mand\u001b[0m \u001b[0;34m\"://\"\u001b[0m \u001b[0;32min\u001b[0m \u001b[0maddress\u001b[0m\u001b[0;34m:\u001b[0m\u001b[0;34m\u001b[0m\u001b[0;34m\u001b[0m\u001b[0m\n\u001b[1;32m    766\u001b[0m         \u001b[0;31m# Address specified a protocol, use ray client\u001b[0m\u001b[0;34m\u001b[0m\u001b[0;34m\u001b[0m\u001b[0;34m\u001b[0m\u001b[0m\n\u001b[0;32m--> 767\u001b[0;31m         \u001b[0mbuilder\u001b[0m \u001b[0;34m=\u001b[0m \u001b[0mray\u001b[0m\u001b[0;34m.\u001b[0m\u001b[0mclient\u001b[0m\u001b[0;34m(\u001b[0m\u001b[0maddress\u001b[0m\u001b[0;34m,\u001b[0m \u001b[0m_deprecation_warn_enabled\u001b[0m\u001b[0;34m=\u001b[0m\u001b[0;32mFalse\u001b[0m\u001b[0;34m)\u001b[0m\u001b[0;34m\u001b[0m\u001b[0;34m\u001b[0m\u001b[0m\n\u001b[0m\u001b[1;32m    768\u001b[0m \u001b[0;34m\u001b[0m\u001b[0m\n\u001b[1;32m    769\u001b[0m         \u001b[0;31m# Forward any keyword arguments that were changed from their default\u001b[0m\u001b[0;34m\u001b[0m\u001b[0;34m\u001b[0m\u001b[0;34m\u001b[0m\u001b[0m\n",
      "\u001b[0;32m/usr/lib/anaconda/lib/python3.8/site-packages/ray/client_builder.py\u001b[0m in \u001b[0;36mclient\u001b[0;34m(address, _deprecation_warn_enabled)\u001b[0m\n\u001b[1;32m    345\u001b[0m         \u001b[0maddress\u001b[0m \u001b[0;34m=\u001b[0m \u001b[0menv_address\u001b[0m\u001b[0;34m\u001b[0m\u001b[0;34m\u001b[0m\u001b[0m\n\u001b[1;32m    346\u001b[0m \u001b[0;34m\u001b[0m\u001b[0m\n\u001b[0;32m--> 347\u001b[0;31m     \u001b[0mbuilder\u001b[0m \u001b[0;34m=\u001b[0m \u001b[0m_get_builder_from_address\u001b[0m\u001b[0;34m(\u001b[0m\u001b[0maddress\u001b[0m\u001b[0;34m)\u001b[0m\u001b[0;34m\u001b[0m\u001b[0;34m\u001b[0m\u001b[0m\n\u001b[0m\u001b[1;32m    348\u001b[0m     \u001b[0;31m# Disable client deprecation warn when ray.client is used internally\u001b[0m\u001b[0;34m\u001b[0m\u001b[0;34m\u001b[0m\u001b[0;34m\u001b[0m\u001b[0m\n\u001b[1;32m    349\u001b[0m     \u001b[0mbuilder\u001b[0m\u001b[0;34m.\u001b[0m\u001b[0m_deprecation_warn_enabled\u001b[0m \u001b[0;34m=\u001b[0m \u001b[0m_deprecation_warn_enabled\u001b[0m\u001b[0;34m\u001b[0m\u001b[0;34m\u001b[0m\u001b[0m\n",
      "\u001b[0;32m/usr/lib/anaconda/lib/python3.8/site-packages/ray/client_builder.py\u001b[0m in \u001b[0;36m_get_builder_from_address\u001b[0;34m(address)\u001b[0m\n\u001b[1;32m    313\u001b[0m         \u001b[0mmodule\u001b[0m \u001b[0;34m=\u001b[0m \u001b[0mimportlib\u001b[0m\u001b[0;34m.\u001b[0m\u001b[0mimport_module\u001b[0m\u001b[0;34m(\u001b[0m\u001b[0mmodule_string\u001b[0m\u001b[0;34m)\u001b[0m\u001b[0;34m\u001b[0m\u001b[0;34m\u001b[0m\u001b[0m\n\u001b[1;32m    314\u001b[0m     \u001b[0;32mexcept\u001b[0m \u001b[0mException\u001b[0m\u001b[0;34m:\u001b[0m\u001b[0;34m\u001b[0m\u001b[0;34m\u001b[0m\u001b[0m\n\u001b[0;32m--> 315\u001b[0;31m         raise RuntimeError(\n\u001b[0m\u001b[1;32m    316\u001b[0m             \u001b[0;34mf\"Module: {module_string} does not exist.\\n\"\u001b[0m\u001b[0;34m\u001b[0m\u001b[0;34m\u001b[0m\u001b[0m\n\u001b[1;32m    317\u001b[0m             f\"This module was parsed from Address: {address}\") from None\n",
      "\u001b[0;31mRuntimeError\u001b[0m: Module: anyscale does not exist.\nThis module was parsed from Address: anyscale://disk-demo-cluster"
     ]
    }
   ],
   "source": [
    "ray.init(\"anyscale://disk-demo-cluster\")"
   ]
  },
  {
   "cell_type": "markdown",
   "id": "22a15953",
   "metadata": {},
   "source": [
    "Let's check our cluster resources."
   ]
  },
  {
   "cell_type": "code",
   "execution_count": null,
   "id": "fd6d9c5d",
   "metadata": {},
   "outputs": [],
   "source": [
    "print(f\"Cluster resources: {ray.cluster_resources()}\")"
   ]
  },
  {
   "cell_type": "markdown",
   "id": "027c42c1",
   "metadata": {},
   "source": [
    "<img src='raycluster_anyscale.jpg' width=\"900\" height=\"900\" align=\"left\">"
   ]
  },
  {
   "cell_type": "markdown",
   "id": "5c7cfaff",
   "metadata": {},
   "source": [
    "### Runtime Environment"
   ]
  },
  {
   "cell_type": "markdown",
   "id": "bb423a0f",
   "metadata": {},
   "source": [
    "One problem with distributed computing is dealing with dependencies either libraries or some other files that are needed for the runtime. Ray has a feature called runtime environment for injecting the dependencies (e.g. Python modules, imported scripts) to the Ray cluster."
   ]
  },
  {
   "cell_type": "markdown",
   "id": "7fce287b",
   "metadata": {},
   "source": [
    "We have some libraries installed and some imported scripts that Ray is not aware of their locations for our bussiness problem. Now, let's initialize our runtime environment."
   ]
  },
  {
   "cell_type": "code",
   "execution_count": 2,
   "id": "5b9f1952",
   "metadata": {},
   "outputs": [],
   "source": [
    "runtime_env = {\"py_modules\":[\"sandbox_src\"], \"pip\": [\"setuptools==59.5.0\", \"u8darts[pmdarima]\", \n",
    "                                              \"pandas\", \"numpy\", \"scikit-learn\"]}"
   ]
  },
  {
   "cell_type": "code",
   "execution_count": 3,
   "id": "3573df8e",
   "metadata": {
    "scrolled": true
   },
   "outputs": [
    {
     "name": "stdout",
     "output_type": "stream",
     "text": [
      "\u001b[1m\u001b[36mAuthenticating\u001b[0m\n"
     ]
    },
    {
     "name": "stderr",
     "output_type": "stream",
     "text": [
      "Loaded Anyscale authentication token from ~/.anyscale/credentials.json.\n"
     ]
    },
    {
     "name": "stdout",
     "output_type": "stream",
     "text": [
      "\n",
      "\u001b[1m\u001b[36mParsing Ray Client arguments\u001b[0m\n",
      "\n",
      "\u001b[1m\u001b[36mChoosing a project\u001b[0m\n"
     ]
    },
    {
     "name": "stderr",
     "output_type": "stream",
     "text": [
      "\u001b[22m\u001b[33m[Warning]\u001b[0m No working_dir specified! Files will only be uploaded to the cluster if a working_dir is provided or a project is detected. In the future, files will only be uploaded if working_dir is provided. To ensure files continue being imported going forward, set the working_dir in your runtime environment. See https://docs.ray.io/en/latest/handling-dependencies.html#runtime-environments.\n",
      "Finished parsing arguments.\n",
      "No project defined. Continuing without a project.\n"
     ]
    },
    {
     "name": "stdout",
     "output_type": "stream",
     "text": [
      "\n",
      "\u001b[1m\u001b[36mPreparing the cluster\u001b[0m\n"
     ]
    },
    {
     "name": "stderr",
     "output_type": "stream",
     "text": [
      "Cluster \u001b[1m\u001b[35mdisk-demo-cluster\u001b[0m exists but not running. This cluster will be restarted.\n",
      "Restarting cluster \u001b[1m\u001b[35mdisk-demo-cluster\u001b[0m:\n",
      "  cluster id:                   ses_WXnTmEA1DdKA8ABVP5dXn3fB\n",
      "  cluster environment:          DEFAULT_APP_CONFIG_ID_1.10.0_py39:1\n",
      "  cluster environment id:       anyscaleray1100-py39\n",
      "  cluster compute:              disk-demo-cluster-conf\n",
      "  cluster compute id:           cpt_QJer7FLTwvB3qqunvx81SS3Y\n",
      "  link:                         https://console.anyscale.com/projects/prj_fRZuN8Y1k7AkpcvkYhAEmc66/clusters/ses_WXnTmEA1DdKA8ABVP5dXn3fB\n",
      "Waiting for cluster \u001b[1m\u001b[35mdisk-demo-cluster\u001b[0m to start. This may take a few minutes\n"
     ]
    },
    {
     "name": "stdout",
     "output_type": "stream",
     "text": [
      "                                                                                \r"
     ]
    },
    {
     "ename": "KeyboardInterrupt",
     "evalue": "",
     "output_type": "error",
     "traceback": [
      "\u001b[0;31m---------------------------------------------------------------------------\u001b[0m",
      "\u001b[0;31mKeyboardInterrupt\u001b[0m                         Traceback (most recent call last)",
      "\u001b[0;32m<ipython-input-3-acb98ba372e2>\u001b[0m in \u001b[0;36m<module>\u001b[0;34m\u001b[0m\n\u001b[0;32m----> 1\u001b[0;31m \u001b[0mray\u001b[0m\u001b[0;34m.\u001b[0m\u001b[0minit\u001b[0m\u001b[0;34m(\u001b[0m\u001b[0;34m\"anyscale://disk-demo-cluster\"\u001b[0m\u001b[0;34m,\u001b[0m \u001b[0mruntime_env\u001b[0m\u001b[0;34m=\u001b[0m\u001b[0mruntime_env\u001b[0m\u001b[0;34m)\u001b[0m\u001b[0;34m\u001b[0m\u001b[0;34m\u001b[0m\u001b[0m\n\u001b[0m",
      "\u001b[0;32m/usr/lib/anaconda/lib/python3.8/site-packages/ray/_private/client_mode_hook.py\u001b[0m in \u001b[0;36mwrapper\u001b[0;34m(*args, **kwargs)\u001b[0m\n\u001b[1;32m    103\u001b[0m             \u001b[0;32mif\u001b[0m \u001b[0mfunc\u001b[0m\u001b[0;34m.\u001b[0m\u001b[0m__name__\u001b[0m \u001b[0;34m!=\u001b[0m \u001b[0;34m\"init\"\u001b[0m \u001b[0;32mor\u001b[0m \u001b[0mis_client_mode_enabled_by_default\u001b[0m\u001b[0;34m:\u001b[0m\u001b[0;34m\u001b[0m\u001b[0;34m\u001b[0m\u001b[0m\n\u001b[1;32m    104\u001b[0m                 \u001b[0;32mreturn\u001b[0m \u001b[0mgetattr\u001b[0m\u001b[0;34m(\u001b[0m\u001b[0mray\u001b[0m\u001b[0;34m,\u001b[0m \u001b[0mfunc\u001b[0m\u001b[0;34m.\u001b[0m\u001b[0m__name__\u001b[0m\u001b[0;34m)\u001b[0m\u001b[0;34m(\u001b[0m\u001b[0;34m*\u001b[0m\u001b[0margs\u001b[0m\u001b[0;34m,\u001b[0m \u001b[0;34m**\u001b[0m\u001b[0mkwargs\u001b[0m\u001b[0;34m)\u001b[0m\u001b[0;34m\u001b[0m\u001b[0;34m\u001b[0m\u001b[0m\n\u001b[0;32m--> 105\u001b[0;31m         \u001b[0;32mreturn\u001b[0m \u001b[0mfunc\u001b[0m\u001b[0;34m(\u001b[0m\u001b[0;34m*\u001b[0m\u001b[0margs\u001b[0m\u001b[0;34m,\u001b[0m \u001b[0;34m**\u001b[0m\u001b[0mkwargs\u001b[0m\u001b[0;34m)\u001b[0m\u001b[0;34m\u001b[0m\u001b[0;34m\u001b[0m\u001b[0m\n\u001b[0m\u001b[1;32m    106\u001b[0m \u001b[0;34m\u001b[0m\u001b[0m\n\u001b[1;32m    107\u001b[0m     \u001b[0;32mreturn\u001b[0m \u001b[0mwrapper\u001b[0m\u001b[0;34m\u001b[0m\u001b[0;34m\u001b[0m\u001b[0m\n",
      "\u001b[0;32m/usr/lib/anaconda/lib/python3.8/site-packages/ray/worker.py\u001b[0m in \u001b[0;36minit\u001b[0;34m(address, num_cpus, num_gpus, resources, object_store_memory, local_mode, ignore_reinit_error, include_dashboard, dashboard_host, dashboard_port, job_config, configure_logging, logging_level, logging_format, log_to_driver, namespace, runtime_env, _enable_object_reconstruction, _redis_max_memory, _plasma_directory, _node_ip_address, _driver_object_store_memory, _memory, _redis_password, _temp_dir, _metrics_export_port, _system_config, _tracing_startup_hook, **kwargs)\u001b[0m\n\u001b[1;32m    783\u001b[0m         \u001b[0mpassed_kwargs\u001b[0m\u001b[0;34m.\u001b[0m\u001b[0mupdate\u001b[0m\u001b[0;34m(\u001b[0m\u001b[0mkwargs\u001b[0m\u001b[0;34m)\u001b[0m\u001b[0;34m\u001b[0m\u001b[0;34m\u001b[0m\u001b[0m\n\u001b[1;32m    784\u001b[0m         \u001b[0mbuilder\u001b[0m\u001b[0;34m.\u001b[0m\u001b[0m_init_args\u001b[0m\u001b[0;34m(\u001b[0m\u001b[0;34m**\u001b[0m\u001b[0mpassed_kwargs\u001b[0m\u001b[0;34m)\u001b[0m\u001b[0;34m\u001b[0m\u001b[0;34m\u001b[0m\u001b[0m\n\u001b[0;32m--> 785\u001b[0;31m         \u001b[0;32mreturn\u001b[0m \u001b[0mbuilder\u001b[0m\u001b[0;34m.\u001b[0m\u001b[0mconnect\u001b[0m\u001b[0;34m(\u001b[0m\u001b[0;34m)\u001b[0m\u001b[0;34m\u001b[0m\u001b[0;34m\u001b[0m\u001b[0m\n\u001b[0m\u001b[1;32m    786\u001b[0m \u001b[0;34m\u001b[0m\u001b[0m\n\u001b[1;32m    787\u001b[0m     \u001b[0;32mif\u001b[0m \u001b[0mkwargs\u001b[0m\u001b[0;34m:\u001b[0m\u001b[0;34m\u001b[0m\u001b[0;34m\u001b[0m\u001b[0m\n",
      "\u001b[0;32m/usr/lib/anaconda/lib/python3.8/site-packages/anyscale/connect.py\u001b[0m in \u001b[0;36mconnect\u001b[0;34m(self)\u001b[0m\n\u001b[1;32m    820\u001b[0m             )\n\u001b[1;32m    821\u001b[0m \u001b[0;34m\u001b[0m\u001b[0m\n\u001b[0;32m--> 822\u001b[0;31m         self._prepare_cluster_block = create_prepare_cluster_block(\n\u001b[0m\u001b[1;32m    823\u001b[0m             \u001b[0mproject_id\u001b[0m\u001b[0;34m=\u001b[0m\u001b[0mproject_id\u001b[0m\u001b[0;34m,\u001b[0m\u001b[0;34m\u001b[0m\u001b[0;34m\u001b[0m\u001b[0m\n\u001b[1;32m    824\u001b[0m             \u001b[0mcluster_name\u001b[0m\u001b[0;34m=\u001b[0m\u001b[0mself\u001b[0m\u001b[0;34m.\u001b[0m\u001b[0m_cluster_name\u001b[0m\u001b[0;34m,\u001b[0m\u001b[0;34m\u001b[0m\u001b[0;34m\u001b[0m\u001b[0m\n",
      "\u001b[0;32m/usr/lib/anaconda/lib/python3.8/site-packages/anyscale/connect_utils/prepare_cluster.py\u001b[0m in \u001b[0;36mcreate_prepare_cluster_block\u001b[0;34m(project_id, cluster_name, autosuspend_timeout, allow_public_internet_traffic, needs_update, cluster_compute_name, cluster_compute_dict, cloud_name, build_pr, force_rebuild, build_commit, cluster_env_name, cluster_env_dict, cluster_env_revision, ray, log_output)\u001b[0m\n\u001b[1;32m    997\u001b[0m     \u001b[0mget_prepare_cluster_block\u001b[0m\u001b[0;34m.\u001b[0m\u001b[0;34m\u001b[0m\u001b[0;34m\u001b[0m\u001b[0m\n\u001b[1;32m    998\u001b[0m     \"\"\"\n\u001b[0;32m--> 999\u001b[0;31m     return PrepareClusterBlock(\n\u001b[0m\u001b[1;32m   1000\u001b[0m         \u001b[0mproject_id\u001b[0m\u001b[0;34m=\u001b[0m\u001b[0mproject_id\u001b[0m\u001b[0;34m,\u001b[0m\u001b[0;34m\u001b[0m\u001b[0;34m\u001b[0m\u001b[0m\n\u001b[1;32m   1001\u001b[0m         \u001b[0mcluster_name\u001b[0m\u001b[0;34m=\u001b[0m\u001b[0mcluster_name\u001b[0m\u001b[0;34m,\u001b[0m\u001b[0;34m\u001b[0m\u001b[0;34m\u001b[0m\u001b[0m\n",
      "\u001b[0;32m/usr/lib/anaconda/lib/python3.8/site-packages/anyscale/connect_utils/prepare_cluster.py\u001b[0m in \u001b[0;36m__init__\u001b[0;34m(self, project_id, cluster_name, autosuspend_timeout, allow_public_internet_traffic, needs_update, cluster_compute_name, cluster_compute_dict, cloud_name, build_pr, force_rebuild, build_commit, cluster_env_name, cluster_env_dict, cluster_env_revision, ray, log_output)\u001b[0m\n\u001b[1;32m    181\u001b[0m             \u001b[0mself\u001b[0m\u001b[0;34m.\u001b[0m\u001b[0m_wait_for_app_build\u001b[0m\u001b[0;34m(\u001b[0m\u001b[0mproject_id\u001b[0m\u001b[0;34m,\u001b[0m \u001b[0mbuild_id\u001b[0m\u001b[0;34m)\u001b[0m\u001b[0;34m\u001b[0m\u001b[0;34m\u001b[0m\u001b[0m\n\u001b[1;32m    182\u001b[0m \u001b[0;34m\u001b[0m\u001b[0m\n\u001b[0;32m--> 183\u001b[0;31m             self.cluster_name = self._create_cluster(\n\u001b[0m\u001b[1;32m    184\u001b[0m                 \u001b[0mproject_id\u001b[0m\u001b[0;34m=\u001b[0m\u001b[0mself\u001b[0m\u001b[0;34m.\u001b[0m\u001b[0mproject_id\u001b[0m\u001b[0;34m,\u001b[0m\u001b[0;34m\u001b[0m\u001b[0;34m\u001b[0m\u001b[0m\n\u001b[1;32m    185\u001b[0m                 \u001b[0mbuild_id\u001b[0m\u001b[0;34m=\u001b[0m\u001b[0mbuild_id\u001b[0m\u001b[0;34m,\u001b[0m\u001b[0;34m\u001b[0m\u001b[0;34m\u001b[0m\u001b[0m\n",
      "\u001b[0;32m/usr/lib/anaconda/lib/python3.8/site-packages/anyscale/connect_utils/prepare_cluster.py\u001b[0m in \u001b[0;36m_create_cluster\u001b[0;34m(self, project_id, build_id, compute_template_id, cluster_name, autosuspend_timeout, allow_public_internet_traffic)\u001b[0m\n\u001b[1;32m    267\u001b[0m         \u001b[0;31m# Update cluster.\u001b[0m\u001b[0;34m\u001b[0m\u001b[0;34m\u001b[0m\u001b[0;34m\u001b[0m\u001b[0m\n\u001b[1;32m    268\u001b[0m         \u001b[0mself\u001b[0m\u001b[0;34m.\u001b[0m\u001b[0mlog\u001b[0m\u001b[0;34m.\u001b[0m\u001b[0mdebug\u001b[0m\u001b[0;34m(\u001b[0m\u001b[0;34m\"Starting cluster with sdk and compute config.\"\u001b[0m\u001b[0;34m)\u001b[0m\u001b[0;34m\u001b[0m\u001b[0;34m\u001b[0m\u001b[0m\n\u001b[0;32m--> 269\u001b[0;31m         return self._start_cluster(\n\u001b[0m\u001b[1;32m    270\u001b[0m             \u001b[0mproject_id\u001b[0m\u001b[0;34m=\u001b[0m\u001b[0mproject_id\u001b[0m\u001b[0;34m,\u001b[0m\u001b[0;34m\u001b[0m\u001b[0;34m\u001b[0m\u001b[0m\n\u001b[1;32m    271\u001b[0m             \u001b[0mcluster_name\u001b[0m\u001b[0;34m=\u001b[0m\u001b[0mcluster_name\u001b[0m\u001b[0;34m,\u001b[0m\u001b[0;34m\u001b[0m\u001b[0;34m\u001b[0m\u001b[0m\n",
      "\u001b[0;32m/usr/lib/anaconda/lib/python3.8/site-packages/anyscale/connect_utils/prepare_cluster.py\u001b[0m in \u001b[0;36m_start_cluster\u001b[0;34m(self, project_id, cluster_name, build_id, compute_template_id, autosuspend_timeout, allow_public_internet_traffic, create_new_cluster)\u001b[0m\n\u001b[1;32m    327\u001b[0m             )\n\u001b[1;32m    328\u001b[0m \u001b[0;34m\u001b[0m\u001b[0m\n\u001b[0;32m--> 329\u001b[0;31m             wait_for_session_start(\n\u001b[0m\u001b[1;32m    330\u001b[0m                 \u001b[0mproject_id\u001b[0m\u001b[0;34m,\u001b[0m\u001b[0;34m\u001b[0m\u001b[0;34m\u001b[0m\u001b[0m\n\u001b[1;32m    331\u001b[0m                 \u001b[0mcluster\u001b[0m\u001b[0;34m.\u001b[0m\u001b[0mname\u001b[0m\u001b[0;34m,\u001b[0m\u001b[0;34m\u001b[0m\u001b[0;34m\u001b[0m\u001b[0m\n",
      "\u001b[0;32m/usr/lib/anaconda/lib/python3.8/site-packages/anyscale/util.py\u001b[0m in \u001b[0;36mwait_for_session_start\u001b[0;34m(project_id, session_name, api_client, log, block_label)\u001b[0m\n\u001b[1;32m    478\u001b[0m                 )\n\u001b[1;32m    479\u001b[0m \u001b[0;34m\u001b[0m\u001b[0m\n\u001b[0;32m--> 480\u001b[0;31m             \u001b[0mtime\u001b[0m\u001b[0;34m.\u001b[0m\u001b[0msleep\u001b[0m\u001b[0;34m(\u001b[0m\u001b[0;36m2\u001b[0m\u001b[0;34m)\u001b[0m\u001b[0;34m\u001b[0m\u001b[0;34m\u001b[0m\u001b[0m\n\u001b[0m\u001b[1;32m    481\u001b[0m \u001b[0;34m\u001b[0m\u001b[0m\n\u001b[1;32m    482\u001b[0m \u001b[0;34m\u001b[0m\u001b[0m\n",
      "\u001b[0;31mKeyboardInterrupt\u001b[0m: "
     ]
    }
   ],
   "source": [
    "ray.init(\"anyscale://disk-demo-cluster\", runtime_env=runtime_env)"
   ]
  },
  {
   "cell_type": "markdown",
   "id": "cf45af0c",
   "metadata": {},
   "source": [
    "# Solving the bussiness problem with Ray"
   ]
  },
  {
   "cell_type": "markdown",
   "id": "fbc91e78",
   "metadata": {},
   "source": [
    "### Now you pick 200 disks (or more!)"
   ]
  },
  {
   "cell_type": "markdown",
   "id": "20b86f33",
   "metadata": {},
   "source": [
    "#### * We have a dataset of 1200 disks for this demo."
   ]
  },
  {
   "cell_type": "code",
   "execution_count": 58,
   "id": "0b7b74dd",
   "metadata": {},
   "outputs": [
    {
     "name": "stdout",
     "output_type": "stream",
     "text": [
      "15\n"
     ]
    }
   ],
   "source": [
    "#Please specify the number of disks for this demo\n",
    "anyscale_nb_of_disks = int(input())\n",
    "\n",
    "#Filter columns based on the given input\n",
    "df_disks = df_disks.iloc[:, :nb_of_disks]"
   ]
  },
  {
   "cell_type": "code",
   "execution_count": 67,
   "id": "b14e31b9",
   "metadata": {
    "scrolled": false
   },
   "outputs": [
    {
     "ename": "RayTaskError(AttributeError)",
     "evalue": "\u001b[36mray::cluster_disk_task()\u001b[39m (pid=2349323, ip=172.18.228.122)\n  File \"/data/scanalytics/KS_DiskKapasiteTahminleme/sandbox_src/feature_engineering/feature_engineering.py\", line 259, in cluster_disk_task\n    errors_df = self.create_model_error_df(diskname, lgbm_7_model_mae_mean, lgbm_7_model_mae_std, lgbm_30_model_mae_mean, lgbm_30_model_mae_std, arima_30_model_mae_mean, arima_30_model_mae_std)\nAttributeError: 'int' object has no attribute 'create_model_error_df'",
     "output_type": "error",
     "traceback": [
      "\u001b[0;31m---------------------------------------------------------------------------\u001b[0m",
      "\u001b[0;31mRayTaskError(AttributeError)\u001b[0m              Traceback (most recent call last)",
      "\u001b[0;32m<ipython-input-67-692ca0eb7cd1>\u001b[0m in \u001b[0;36m<module>\u001b[0;34m\u001b[0m\n\u001b[1;32m      4\u001b[0m \u001b[0;32mfor\u001b[0m \u001b[0mcol\u001b[0m \u001b[0;32min\u001b[0m \u001b[0mdf_disks\u001b[0m\u001b[0;34m.\u001b[0m\u001b[0mcolumns\u001b[0m\u001b[0;34m:\u001b[0m\u001b[0;34m\u001b[0m\u001b[0;34m\u001b[0m\u001b[0m\n\u001b[1;32m      5\u001b[0m     \u001b[0mfutures\u001b[0m\u001b[0;34m.\u001b[0m\u001b[0mappend\u001b[0m\u001b[0;34m(\u001b[0m\u001b[0mfeature_engine\u001b[0m\u001b[0;34m.\u001b[0m\u001b[0mcluster_disk_task\u001b[0m\u001b[0;34m.\u001b[0m\u001b[0mremote\u001b[0m\u001b[0;34m(\u001b[0m\u001b[0;36m1\u001b[0m\u001b[0;34m,\u001b[0m \u001b[0mdf_disks\u001b[0m\u001b[0;34m[\u001b[0m\u001b[0mcol\u001b[0m\u001b[0;34m]\u001b[0m\u001b[0;34m)\u001b[0m\u001b[0;34m)\u001b[0m\u001b[0;34m\u001b[0m\u001b[0;34m\u001b[0m\u001b[0m\n\u001b[0;32m----> 6\u001b[0;31m \u001b[0mray\u001b[0m\u001b[0;34m.\u001b[0m\u001b[0mget\u001b[0m\u001b[0;34m(\u001b[0m\u001b[0mfutures\u001b[0m\u001b[0;34m)\u001b[0m\u001b[0;34m\u001b[0m\u001b[0;34m\u001b[0m\u001b[0m\n\u001b[0m\u001b[1;32m      7\u001b[0m \u001b[0;34m\u001b[0m\u001b[0m\n\u001b[1;32m      8\u001b[0m \u001b[0melapsed_time\u001b[0m \u001b[0;34m=\u001b[0m \u001b[0mtime\u001b[0m\u001b[0;34m.\u001b[0m\u001b[0mtime\u001b[0m\u001b[0;34m(\u001b[0m\u001b[0;34m)\u001b[0m \u001b[0;34m-\u001b[0m \u001b[0mstart_time\u001b[0m\u001b[0;34m\u001b[0m\u001b[0;34m\u001b[0m\u001b[0m\n",
      "\u001b[0;32m/usr/lib/anaconda/lib/python3.8/site-packages/ray/_private/client_mode_hook.py\u001b[0m in \u001b[0;36mwrapper\u001b[0;34m(*args, **kwargs)\u001b[0m\n\u001b[1;32m    103\u001b[0m             \u001b[0;32mif\u001b[0m \u001b[0mfunc\u001b[0m\u001b[0;34m.\u001b[0m\u001b[0m__name__\u001b[0m \u001b[0;34m!=\u001b[0m \u001b[0;34m\"init\"\u001b[0m \u001b[0;32mor\u001b[0m \u001b[0mis_client_mode_enabled_by_default\u001b[0m\u001b[0;34m:\u001b[0m\u001b[0;34m\u001b[0m\u001b[0;34m\u001b[0m\u001b[0m\n\u001b[1;32m    104\u001b[0m                 \u001b[0;32mreturn\u001b[0m \u001b[0mgetattr\u001b[0m\u001b[0;34m(\u001b[0m\u001b[0mray\u001b[0m\u001b[0;34m,\u001b[0m \u001b[0mfunc\u001b[0m\u001b[0;34m.\u001b[0m\u001b[0m__name__\u001b[0m\u001b[0;34m)\u001b[0m\u001b[0;34m(\u001b[0m\u001b[0;34m*\u001b[0m\u001b[0margs\u001b[0m\u001b[0;34m,\u001b[0m \u001b[0;34m**\u001b[0m\u001b[0mkwargs\u001b[0m\u001b[0;34m)\u001b[0m\u001b[0;34m\u001b[0m\u001b[0;34m\u001b[0m\u001b[0m\n\u001b[0;32m--> 105\u001b[0;31m         \u001b[0;32mreturn\u001b[0m \u001b[0mfunc\u001b[0m\u001b[0;34m(\u001b[0m\u001b[0;34m*\u001b[0m\u001b[0margs\u001b[0m\u001b[0;34m,\u001b[0m \u001b[0;34m**\u001b[0m\u001b[0mkwargs\u001b[0m\u001b[0;34m)\u001b[0m\u001b[0;34m\u001b[0m\u001b[0;34m\u001b[0m\u001b[0m\n\u001b[0m\u001b[1;32m    106\u001b[0m \u001b[0;34m\u001b[0m\u001b[0m\n\u001b[1;32m    107\u001b[0m     \u001b[0;32mreturn\u001b[0m \u001b[0mwrapper\u001b[0m\u001b[0;34m\u001b[0m\u001b[0;34m\u001b[0m\u001b[0m\n",
      "\u001b[0;32m/usr/lib/anaconda/lib/python3.8/site-packages/ray/worker.py\u001b[0m in \u001b[0;36mget\u001b[0;34m(object_refs, timeout)\u001b[0m\n\u001b[1;32m   1731\u001b[0m                     \u001b[0mworker\u001b[0m\u001b[0;34m.\u001b[0m\u001b[0mcore_worker\u001b[0m\u001b[0;34m.\u001b[0m\u001b[0mdump_object_store_memory_usage\u001b[0m\u001b[0;34m(\u001b[0m\u001b[0;34m)\u001b[0m\u001b[0;34m\u001b[0m\u001b[0;34m\u001b[0m\u001b[0m\n\u001b[1;32m   1732\u001b[0m                 \u001b[0;32mif\u001b[0m \u001b[0misinstance\u001b[0m\u001b[0;34m(\u001b[0m\u001b[0mvalue\u001b[0m\u001b[0;34m,\u001b[0m \u001b[0mRayTaskError\u001b[0m\u001b[0;34m)\u001b[0m\u001b[0;34m:\u001b[0m\u001b[0;34m\u001b[0m\u001b[0;34m\u001b[0m\u001b[0m\n\u001b[0;32m-> 1733\u001b[0;31m                     \u001b[0;32mraise\u001b[0m \u001b[0mvalue\u001b[0m\u001b[0;34m.\u001b[0m\u001b[0mas_instanceof_cause\u001b[0m\u001b[0;34m(\u001b[0m\u001b[0;34m)\u001b[0m\u001b[0;34m\u001b[0m\u001b[0;34m\u001b[0m\u001b[0m\n\u001b[0m\u001b[1;32m   1734\u001b[0m                 \u001b[0;32melse\u001b[0m\u001b[0;34m:\u001b[0m\u001b[0;34m\u001b[0m\u001b[0;34m\u001b[0m\u001b[0m\n\u001b[1;32m   1735\u001b[0m                     \u001b[0;32mraise\u001b[0m \u001b[0mvalue\u001b[0m\u001b[0;34m\u001b[0m\u001b[0;34m\u001b[0m\u001b[0m\n",
      "\u001b[0;31mRayTaskError(AttributeError)\u001b[0m: \u001b[36mray::cluster_disk_task()\u001b[39m (pid=2349323, ip=172.18.228.122)\n  File \"/data/scanalytics/KS_DiskKapasiteTahminleme/sandbox_src/feature_engineering/feature_engineering.py\", line 259, in cluster_disk_task\n    errors_df = self.create_model_error_df(diskname, lgbm_7_model_mae_mean, lgbm_7_model_mae_std, lgbm_30_model_mae_mean, lgbm_30_model_mae_std, arima_30_model_mae_mean, arima_30_model_mae_std)\nAttributeError: 'int' object has no attribute 'create_model_error_df'"
     ]
    },
    {
     "name": "stderr",
     "output_type": "stream",
     "text": [
      "2022-04-14 15:52:46,947\tERROR worker.py:85 -- Unhandled error (suppress with RAY_IGNORE_UNHANDLED_ERRORS=1): \u001b[36mray::cluster_disk_task()\u001b[39m (pid=2349325, ip=172.18.228.122)\n",
      "  File \"/data/scanalytics/KS_DiskKapasiteTahminleme/sandbox_src/feature_engineering/feature_engineering.py\", line 259, in cluster_disk_task\n",
      "    errors_df = self.create_model_error_df(diskname, lgbm_7_model_mae_mean, lgbm_7_model_mae_std, lgbm_30_model_mae_mean, lgbm_30_model_mae_std, arima_30_model_mae_mean, arima_30_model_mae_std)\n",
      "AttributeError: 'int' object has no attribute 'create_model_error_df'\n",
      "2022-04-14 15:52:46,950\tERROR worker.py:85 -- Unhandled error (suppress with RAY_IGNORE_UNHANDLED_ERRORS=1): \u001b[36mray::cluster_disk_task()\u001b[39m (pid=2349316, ip=172.18.228.122)\n",
      "  File \"/data/scanalytics/KS_DiskKapasiteTahminleme/sandbox_src/feature_engineering/feature_engineering.py\", line 259, in cluster_disk_task\n",
      "    errors_df = self.create_model_error_df(diskname, lgbm_7_model_mae_mean, lgbm_7_model_mae_std, lgbm_30_model_mae_mean, lgbm_30_model_mae_std, arima_30_model_mae_mean, arima_30_model_mae_std)\n",
      "AttributeError: 'int' object has no attribute 'create_model_error_df'\n",
      "2022-04-14 15:52:46,952\tERROR worker.py:85 -- Unhandled error (suppress with RAY_IGNORE_UNHANDLED_ERRORS=1): \u001b[36mray::cluster_disk_task()\u001b[39m (pid=2349319, ip=172.18.228.122)\n",
      "  File \"/data/scanalytics/KS_DiskKapasiteTahminleme/sandbox_src/feature_engineering/feature_engineering.py\", line 259, in cluster_disk_task\n",
      "    errors_df = self.create_model_error_df(diskname, lgbm_7_model_mae_mean, lgbm_7_model_mae_std, lgbm_30_model_mae_mean, lgbm_30_model_mae_std, arima_30_model_mae_mean, arima_30_model_mae_std)\n",
      "AttributeError: 'int' object has no attribute 'create_model_error_df'\n",
      "2022-04-14 15:52:46,956\tERROR worker.py:85 -- Unhandled error (suppress with RAY_IGNORE_UNHANDLED_ERRORS=1): \u001b[36mray::cluster_disk_task()\u001b[39m (pid=2349333, ip=172.18.228.122)\n",
      "  File \"/data/scanalytics/KS_DiskKapasiteTahminleme/sandbox_src/feature_engineering/feature_engineering.py\", line 259, in cluster_disk_task\n",
      "    errors_df = self.create_model_error_df(diskname, lgbm_7_model_mae_mean, lgbm_7_model_mae_std, lgbm_30_model_mae_mean, lgbm_30_model_mae_std, arima_30_model_mae_mean, arima_30_model_mae_std)\n",
      "AttributeError: 'int' object has no attribute 'create_model_error_df'\n",
      "2022-04-14 15:52:46,959\tERROR worker.py:85 -- Unhandled error (suppress with RAY_IGNORE_UNHANDLED_ERRORS=1): \u001b[36mray::cluster_disk_task()\u001b[39m (pid=2349322, ip=172.18.228.122)\n",
      "  File \"/data/scanalytics/KS_DiskKapasiteTahminleme/sandbox_src/feature_engineering/feature_engineering.py\", line 259, in cluster_disk_task\n",
      "    errors_df = self.create_model_error_df(diskname, lgbm_7_model_mae_mean, lgbm_7_model_mae_std, lgbm_30_model_mae_mean, lgbm_30_model_mae_std, arima_30_model_mae_mean, arima_30_model_mae_std)\n",
      "AttributeError: 'int' object has no attribute 'create_model_error_df'\n",
      "2022-04-14 15:52:48,947\tERROR worker.py:85 -- Unhandled error (suppress with RAY_IGNORE_UNHANDLED_ERRORS=1): \u001b[36mray::cluster_disk_task()\u001b[39m (pid=2349314, ip=172.18.228.122)\n",
      "  File \"/data/scanalytics/KS_DiskKapasiteTahminleme/sandbox_src/feature_engineering/feature_engineering.py\", line 259, in cluster_disk_task\n",
      "    errors_df = self.create_model_error_df(diskname, lgbm_7_model_mae_mean, lgbm_7_model_mae_std, lgbm_30_model_mae_mean, lgbm_30_model_mae_std, arima_30_model_mae_mean, arima_30_model_mae_std)\n",
      "AttributeError: 'int' object has no attribute 'create_model_error_df'\n",
      "2022-04-14 15:52:49,950\tERROR worker.py:85 -- Unhandled error (suppress with RAY_IGNORE_UNHANDLED_ERRORS=1): \u001b[36mray::cluster_disk_task()\u001b[39m (pid=2349318, ip=172.18.228.122)\n",
      "  File \"/data/scanalytics/KS_DiskKapasiteTahminleme/sandbox_src/feature_engineering/feature_engineering.py\", line 259, in cluster_disk_task\n",
      "    errors_df = self.create_model_error_df(diskname, lgbm_7_model_mae_mean, lgbm_7_model_mae_std, lgbm_30_model_mae_mean, lgbm_30_model_mae_std, arima_30_model_mae_mean, arima_30_model_mae_std)\n",
      "AttributeError: 'int' object has no attribute 'create_model_error_df'\n",
      "2022-04-14 15:52:50,950\tERROR worker.py:85 -- Unhandled error (suppress with RAY_IGNORE_UNHANDLED_ERRORS=1): \u001b[36mray::cluster_disk_task()\u001b[39m (pid=2349321, ip=172.18.228.122)\n",
      "  File \"/data/scanalytics/KS_DiskKapasiteTahminleme/sandbox_src/feature_engineering/feature_engineering.py\", line 259, in cluster_disk_task\n",
      "    errors_df = self.create_model_error_df(diskname, lgbm_7_model_mae_mean, lgbm_7_model_mae_std, lgbm_30_model_mae_mean, lgbm_30_model_mae_std, arima_30_model_mae_mean, arima_30_model_mae_std)\n",
      "AttributeError: 'int' object has no attribute 'create_model_error_df'\n",
      "2022-04-14 15:52:50,953\tERROR worker.py:85 -- Unhandled error (suppress with RAY_IGNORE_UNHANDLED_ERRORS=1): \u001b[36mray::cluster_disk_task()\u001b[39m (pid=2349317, ip=172.18.228.122)\n",
      "  File \"/data/scanalytics/KS_DiskKapasiteTahminleme/sandbox_src/feature_engineering/feature_engineering.py\", line 259, in cluster_disk_task\n",
      "    errors_df = self.create_model_error_df(diskname, lgbm_7_model_mae_mean, lgbm_7_model_mae_std, lgbm_30_model_mae_mean, lgbm_30_model_mae_std, arima_30_model_mae_mean, arima_30_model_mae_std)\n",
      "AttributeError: 'int' object has no attribute 'create_model_error_df'\n",
      "2022-04-14 15:52:50,956\tERROR worker.py:85 -- Unhandled error (suppress with RAY_IGNORE_UNHANDLED_ERRORS=1): \u001b[36mray::cluster_disk_task()\u001b[39m (pid=2349330, ip=172.18.228.122)\n",
      "  File \"/data/scanalytics/KS_DiskKapasiteTahminleme/sandbox_src/feature_engineering/feature_engineering.py\", line 259, in cluster_disk_task\n",
      "    errors_df = self.create_model_error_df(diskname, lgbm_7_model_mae_mean, lgbm_7_model_mae_std, lgbm_30_model_mae_mean, lgbm_30_model_mae_std, arima_30_model_mae_mean, arima_30_model_mae_std)\n",
      "AttributeError: 'int' object has no attribute 'create_model_error_df'\n",
      "2022-04-14 15:52:50,959\tERROR worker.py:85 -- Unhandled error (suppress with RAY_IGNORE_UNHANDLED_ERRORS=1): \u001b[36mray::cluster_disk_task()\u001b[39m (pid=2349313, ip=172.18.228.122)\n",
      "  File \"/data/scanalytics/KS_DiskKapasiteTahminleme/sandbox_src/feature_engineering/feature_engineering.py\", line 259, in cluster_disk_task\n",
      "    errors_df = self.create_model_error_df(diskname, lgbm_7_model_mae_mean, lgbm_7_model_mae_std, lgbm_30_model_mae_mean, lgbm_30_model_mae_std, arima_30_model_mae_mean, arima_30_model_mae_std)\n",
      "AttributeError: 'int' object has no attribute 'create_model_error_df'\n",
      "2022-04-14 15:52:52,950\tERROR worker.py:85 -- Unhandled error (suppress with RAY_IGNORE_UNHANDLED_ERRORS=1): \u001b[36mray::cluster_disk_task()\u001b[39m (pid=2349315, ip=172.18.228.122)\n",
      "  File \"/data/scanalytics/KS_DiskKapasiteTahminleme/sandbox_src/feature_engineering/feature_engineering.py\", line 259, in cluster_disk_task\n",
      "    errors_df = self.create_model_error_df(diskname, lgbm_7_model_mae_mean, lgbm_7_model_mae_std, lgbm_30_model_mae_mean, lgbm_30_model_mae_std, arima_30_model_mae_mean, arima_30_model_mae_std)\n",
      "AttributeError: 'int' object has no attribute 'create_model_error_df'\n",
      "2022-04-14 15:52:53,951\tERROR worker.py:85 -- Unhandled error (suppress with RAY_IGNORE_UNHANDLED_ERRORS=1): \u001b[36mray::cluster_disk_task()\u001b[39m (pid=2349326, ip=172.18.228.122)\n",
      "  File \"/data/scanalytics/KS_DiskKapasiteTahminleme/sandbox_src/feature_engineering/feature_engineering.py\", line 259, in cluster_disk_task\n",
      "    errors_df = self.create_model_error_df(diskname, lgbm_7_model_mae_mean, lgbm_7_model_mae_std, lgbm_30_model_mae_mean, lgbm_30_model_mae_std, arima_30_model_mae_mean, arima_30_model_mae_std)\n",
      "AttributeError: 'int' object has no attribute 'create_model_error_df'\n",
      "2022-04-14 15:53:00,954\tERROR worker.py:85 -- Unhandled error (suppress with RAY_IGNORE_UNHANDLED_ERRORS=1): \u001b[36mray::cluster_disk_task()\u001b[39m (pid=2349324, ip=172.18.228.122)\n",
      "  File \"/data/scanalytics/KS_DiskKapasiteTahminleme/sandbox_src/feature_engineering/feature_engineering.py\", line 259, in cluster_disk_task\n",
      "    errors_df = self.create_model_error_df(diskname, lgbm_7_model_mae_mean, lgbm_7_model_mae_std, lgbm_30_model_mae_mean, lgbm_30_model_mae_std, arima_30_model_mae_mean, arima_30_model_mae_std)\n",
      "AttributeError: 'int' object has no attribute 'create_model_error_df'\n"
     ]
    }
   ],
   "source": [
    "start_time = time.time()\n",
    "\n",
    "futures = []\n",
    "for col in df_disks.columns:\n",
    "    futures.append(feature_engine.cluster_disk_task.remote(1, df_disks[col]))\n",
    "ray.get(futures)\n",
    "\n",
    "anyscale_elapsed_time = time.time() - start_time\n",
    "print(f'The total elapsed time for model mapping process with {nb_of_disks_anyscale} disks and Ray is: {anyscale_elapsed_time:.2f} seconds')"
   ]
  },
  {
   "cell_type": "markdown",
   "id": "0deec44c",
   "metadata": {},
   "source": [
    "## Performance Comparison"
   ]
  },
  {
   "cell_type": "code",
   "execution_count": null,
   "id": "a258ccee",
   "metadata": {},
   "outputs": [],
   "source": [
    "print(f\"Elapsed time for synchronous Python with 2 disks = {elapsed_time:.2f} -> Throughput = {2/elapsed_time:.2f}\")\n",
    "print(f\"Elapsed time for Ray with {nb_of_disks_ray} disks = {ray_elapsed_time:.2f} -> Throughput = {nb_of_disks_ray/ray_elapsed_time:.2f}\")\n",
    "print(f\"Elapsed time for Anyscale with {nb_of_disks_anyscale} disks = {anyscale_elapsed_time:.2f} -> Throughput = {nb_of_disks_anyscale/anyscale_elapsed_time:.2f}\")"
   ]
  }
 ],
 "metadata": {
  "kernelspec": {
   "display_name": "Python 3",
   "language": "python",
   "name": "python3"
  },
  "language_info": {
   "codemirror_mode": {
    "name": "ipython",
    "version": 3
   },
   "file_extension": ".py",
   "mimetype": "text/x-python",
   "name": "python",
   "nbconvert_exporter": "python",
   "pygments_lexer": "ipython3",
   "version": "3.8.8"
  }
 },
 "nbformat": 4,
 "nbformat_minor": 5
}
